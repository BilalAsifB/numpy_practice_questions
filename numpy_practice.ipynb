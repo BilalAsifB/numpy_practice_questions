{
 "cells": [
  {
   "cell_type": "markdown",
   "id": "80305c02-e609-4ae0-89f9-41b8fa363636",
   "metadata": {},
   "source": [
    "# NUMPY PRACTICE QUESTIONS "
   ]
  },
  {
   "cell_type": "code",
   "execution_count": 1,
   "id": "232a01a7-833a-4f22-814f-3930aef0734b",
   "metadata": {},
   "outputs": [],
   "source": [
    "import numpy as np"
   ]
  },
  {
   "cell_type": "markdown",
   "id": "8e8c5872-0761-4b44-b6a8-8df8ade88d13",
   "metadata": {},
   "source": [
    "### 1. Create a null vector of size 10 but the fifth value which is 1."
   ]
  },
  {
   "cell_type": "code",
   "execution_count": 3,
   "id": "61205dee-fb3e-4221-b64b-02f8b22779d6",
   "metadata": {},
   "outputs": [
    {
     "name": "stdout",
     "output_type": "stream",
     "text": [
      "[0. 0. 0. 0. 1. 0. 0. 0. 0. 0.]\n"
     ]
    }
   ],
   "source": [
    "arr = np.zeros(10)\n",
    "arr[4] = 1\n",
    "print(arr)"
   ]
  },
  {
   "cell_type": "markdown",
   "id": "b33eff76-1d0c-4e0f-9c21-2564bd0f3f72",
   "metadata": {},
   "source": [
    "### 2. Ask user to input two numbers a, b. Write a program to generate a random array of shape (a, b)           and print the array and avg of the array."
   ]
  },
  {
   "cell_type": "code",
   "execution_count": 4,
   "id": "b7780fd3-2d3f-4c6d-b7bc-4f1a0fed8e40",
   "metadata": {},
   "outputs": [
    {
     "name": "stdin",
     "output_type": "stream",
     "text": [
      " 5 6\n"
     ]
    },
    {
     "name": "stdout",
     "output_type": "stream",
     "text": [
      "[[0.65601912 0.98216915 0.28558499 0.53369956 0.85866909 0.4460347 ]\n",
      " [0.36249006 0.11571303 0.48496578 0.65690169 0.88181255 0.34097053]\n",
      " [0.65390226 0.87010875 0.22705985 0.64154457 0.65494694 0.34581602]\n",
      " [0.78451509 0.00683152 0.80016693 0.42047107 0.83700377 0.06886372]\n",
      " [0.66686023 0.98733441 0.00454225 0.13233933 0.74325191 0.61912521]]\n",
      "Average: 0.5356571361698551\n"
     ]
    }
   ],
   "source": [
    "a, b = map(int, input().split())\n",
    "arr = np.random.random((a, b))\n",
    "print(arr)\n",
    "print(f'Average: {np.average(arr)}')"
   ]
  },
  {
   "cell_type": "markdown",
   "id": "127228fa-0a99-4532-bb90-eab54a2411e0",
   "metadata": {},
   "source": [
    "### 3. Write a function to create a 2d array with 1 on the border and 0 inside. Take 2-D array shape as (a,b) as parameter to function.\n",
    "\n",
    "Eg.-\n",
    "```\n",
    "[[1,1,1,1],\n",
    "[1,0,0,1],\n",
    "[1,0,0,1],\n",
    "[1,1,1,1]]\n",
    "```"
   ]
  },
  {
   "cell_type": "code",
   "execution_count": 5,
   "id": "d2f9902e-fd6c-427c-95b9-46c6611cf0a8",
   "metadata": {},
   "outputs": [
    {
     "name": "stdin",
     "output_type": "stream",
     "text": [
      " 10 11\n"
     ]
    },
    {
     "name": "stdout",
     "output_type": "stream",
     "text": [
      "[[1. 1. 1. 1. 1. 1. 1. 1. 1. 1. 1.]\n",
      " [1. 0. 0. 0. 0. 0. 0. 0. 0. 0. 1.]\n",
      " [1. 0. 0. 0. 0. 0. 0. 0. 0. 0. 1.]\n",
      " [1. 0. 0. 0. 0. 0. 0. 0. 0. 0. 1.]\n",
      " [1. 0. 0. 0. 0. 0. 0. 0. 0. 0. 1.]\n",
      " [1. 0. 0. 0. 0. 0. 0. 0. 0. 0. 1.]\n",
      " [1. 0. 0. 0. 0. 0. 0. 0. 0. 0. 1.]\n",
      " [1. 0. 0. 0. 0. 0. 0. 0. 0. 0. 1.]\n",
      " [1. 0. 0. 0. 0. 0. 0. 0. 0. 0. 1.]\n",
      " [1. 1. 1. 1. 1. 1. 1. 1. 1. 1. 1.]]\n"
     ]
    }
   ],
   "source": [
    "def matrix_func(a, b):\n",
    "    arr = np.ones((a, b))\n",
    "    arr[1:-1, 1:-1] = 0\n",
    "    print(arr)\n",
    "\n",
    "a, b = map(int, input().split())\n",
    "matrix_func(a, b)"
   ]
  },
  {
   "cell_type": "markdown",
   "id": "425c8948-2c77-4129-ab38-3ecc901ce810",
   "metadata": {},
   "source": [
    "### 4. Create a vector of size 10 with values ranging from 0 to 1, both excluded."
   ]
  },
  {
   "cell_type": "code",
   "execution_count": 7,
   "id": "0fd807da-042e-422b-9a23-e30eee2c0f0e",
   "metadata": {},
   "outputs": [
    {
     "name": "stdout",
     "output_type": "stream",
     "text": [
      "[0.09090909 0.18181818 0.27272727 0.36363636 0.45454545 0.54545455\n",
      " 0.63636364 0.72727273 0.81818182 0.90909091]\n"
     ]
    }
   ],
   "source": [
    "arr = np.linspace(0, 1, 12)[1:-1]\n",
    "print(arr)"
   ]
  },
  {
   "cell_type": "markdown",
   "id": "77fb8685-ced8-4c3a-a26e-dea12e444735",
   "metadata": {},
   "source": [
    "### 5. Create a 5x5 matrix with row values ranging from 0 to 4."
   ]
  },
  {
   "cell_type": "markdown",
   "id": "59204764-a22e-40e5-840c-b9613cbbde60",
   "metadata": {},
   "source": [
    "> Method # 1"
   ]
  },
  {
   "cell_type": "code",
   "execution_count": 31,
   "id": "00b965f5-8a41-4426-b227-b4eabce54a3c",
   "metadata": {},
   "outputs": [
    {
     "name": "stdout",
     "output_type": "stream",
     "text": [
      "[[0 1 2 3 4]\n",
      " [0 1 2 3 4]\n",
      " [0 1 2 3 4]\n",
      " [0 1 2 3 4]\n",
      " [0 1 2 3 4]]\n"
     ]
    }
   ],
   "source": [
    "arr = np.tile(np.arange(0, 5), (5,1))\n",
    "print(arr)"
   ]
  },
  {
   "cell_type": "markdown",
   "id": "f8f1dc0d-3af9-4ce9-8ed4-9d292ebc828d",
   "metadata": {},
   "source": [
    "> Method # 2"
   ]
  },
  {
   "cell_type": "code",
   "execution_count": 32,
   "id": "30f1b19b-eee6-48b9-a4a4-2df96cd54fab",
   "metadata": {},
   "outputs": [
    {
     "name": "stdout",
     "output_type": "stream",
     "text": [
      "[[0 1 2 3 4]\n",
      " [0 1 2 3 4]\n",
      " [0 1 2 3 4]\n",
      " [0 1 2 3 4]\n",
      " [0 1 2 3 4]]\n"
     ]
    }
   ],
   "source": [
    "arr = np.vstack([np.arange(0, 5) for _ in range(5)])\n",
    "print(arr)"
   ]
  },
  {
   "cell_type": "markdown",
   "id": "578abae3-68b5-44c6-9892-2baa3a34f9b7",
   "metadata": {},
   "source": [
    "### 6. Consider a random integer (in range 1 to 100) vector with shape `(10,2)` representing coordinates, and coordinates of a point as array is given. Create an array of distance of each point in the random vectros from the given point. Distance array should be interger type.\n",
    "\n",
    "```\n",
    "point = np.array([2,3]) \n",
    "```\n"
   ]
  },
  {
   "cell_type": "markdown",
   "id": "b1690fdd-8b31-49cf-96ab-e6e65e35b07e",
   "metadata": {},
   "source": [
    "> Method # 1:"
   ]
  },
  {
   "cell_type": "code",
   "execution_count": 60,
   "id": "0b0c961f-fc84-4a2f-a36b-ec9363ea2485",
   "metadata": {},
   "outputs": [
    {
     "name": "stdout",
     "output_type": "stream",
     "text": [
      "Distance from [62 64] = 10.63\n",
      "Distance from [25 31] = 6.56\n",
      "Distance from [16 84] = 9.33\n",
      "Distance from [23 86] = 9.8\n",
      "Distance from [48 22] = 7.55\n",
      "Distance from [62 27] = 8.72\n",
      "Distance from [89 29] = 10.25\n",
      "Distance from [ 3 29] = 4.36\n",
      "Distance from [73 15] = 8.66\n",
      "Distance from [33 40] = 7.75\n"
     ]
    }
   ],
   "source": [
    "def euc_distance(x, y):\n",
    "    point = np.array([2, 3])\n",
    "    return np.round(((x - point[0]**2) + (y - point[1]**2))**0.5, 2)\n",
    "\n",
    "\n",
    "rng = np.random.default_rng()\n",
    "arr = rng.integers(1, 100, 20).reshape(10, 2)\n",
    "for cor in arr:\n",
    "    print(f'Distance from {cor} = {euc_distance(cor[0], cor[1])}')"
   ]
  },
  {
   "cell_type": "markdown",
   "id": "c73f972a-3c29-473d-87e5-0a50cb67386e",
   "metadata": {},
   "source": [
    "> Method # 2:"
   ]
  },
  {
   "cell_type": "code",
   "execution_count": 63,
   "id": "f190ba18-67e7-4bd1-8a9f-4b7f94528d1d",
   "metadata": {},
   "outputs": [
    {
     "name": "stdout",
     "output_type": "stream",
     "text": [
      "Distance from [94 59] = 107.7\n",
      "Distance from [74 76] = 102.53\n",
      "Distance from [72 64] = 92.85\n",
      "Distance from [54 38] = 62.68\n",
      "Distance from [83 18] = 82.38\n",
      "Distance from [12 70] = 67.74\n",
      "Distance from [76  4] = 74.01\n",
      "Distance from [72 87] = 109.34\n",
      "Distance from [73 29] = 75.61\n",
      "Distance from [59 45] = 70.8\n"
     ]
    }
   ],
   "source": [
    "def euc_distance(arr):\n",
    "    point = np.array([2, 3])\n",
    "    return np.linalg.norm(arr - point, axis=1)\n",
    "\n",
    "arr = np.random.randint(1, 101, size=(10, 2))\n",
    "res = euc_distance(arr)\n",
    "for i in range(10):\n",
    "    print(f'Distance from {arr[i]} = {np.round(res[i], 2)}')"
   ]
  },
  {
   "cell_type": "markdown",
   "id": "85ccdb6f-419f-41da-a892-41260a8609f0",
   "metadata": {},
   "source": [
    "### 7. Consider a (6,7,8) shape array, what is the index (x,y,z) of the 100th element?"
   ]
  },
  {
   "cell_type": "code",
   "execution_count": 74,
   "id": "129a90eb-2280-4f4f-a260-f48268d19215",
   "metadata": {},
   "outputs": [
    {
     "name": "stdout",
     "output_type": "stream",
     "text": [
      "100th element = 99\n"
     ]
    }
   ],
   "source": [
    "arr = np.arange(6*7*8).reshape(6, 7, 8)\n",
    "print(f'100th element = {arr[1, 5, 3]}') # or arr[1, -2, 3]"
   ]
  },
  {
   "cell_type": "markdown",
   "id": "2ecb9927-23d7-4800-ab3e-eb201c90ffe2",
   "metadata": {},
   "source": [
    "### 8. You are given a space separated list of numbers. Your task is to print a reversed NumPy array with the element type float.\n",
    "**Input Format:**\n",
    "\n",
    "A single line of input containing space separated numbers.\n",
    "\n",
    "**Output Format:**\n",
    "\n",
    "Print the reverse NumPy array with type float.\n",
    "\n",
    "**Example 1:**\n",
    "\n",
    "Input:\n",
    "\n",
    "```bash\n",
    "1 2 3 4 -8 -10\n",
    "```\n",
    "\n",
    "Output:\n",
    "\n",
    "```bash\n",
    "[-10.  -8.   4.   3.   2.   1.]\n",
    "```\n"
   ]
  },
  {
   "cell_type": "code",
   "execution_count": 82,
   "id": "482d565f-518b-473d-9d9a-6a775d25cf12",
   "metadata": {},
   "outputs": [
    {
     "name": "stdin",
     "output_type": "stream",
     "text": [
      " 1 -12 -90 0 8 5\n"
     ]
    },
    {
     "name": "stdout",
     "output_type": "stream",
     "text": [
      "INput: [  1 -12 -90   0   8   5]\n",
      "Output: [  5.   8.   0. -90. -12.   1.]\n"
     ]
    }
   ],
   "source": [
    "inp = list(map(int, input().split()))\n",
    "arr = np.array(inp)\n",
    "rev = arr[::-1].astype(float)\n",
    "print(f'INput: {arr}\\nOutput: {rev}')"
   ]
  },
  {
   "cell_type": "markdown",
   "id": "59db2ec3-eff3-4a05-8fc3-65563997bee0",
   "metadata": {},
   "source": [
    "### 10. Count the number of elements of a numpy array.\n",
    "**Example 1:**\n",
    "\n",
    "Input:\n",
    "```bash\n",
    "np.array([])\n",
    "```\n",
    "\n",
    "Output:\n",
    "```bash\n",
    "elements_count :  0\n",
    "```\n",
    "\n",
    "**Example 2:**\n",
    "\n",
    "Input:\n",
    "```bash\n",
    "np.array([1, 2])\n",
    "```\n",
    "\n",
    "Output:\n",
    "```bash\n",
    "elements_count :  2\n",
    "```"
   ]
  },
  {
   "cell_type": "code",
   "execution_count": 89,
   "id": "4c8aeb20-c3f1-4cf4-b17f-2003a9ee824b",
   "metadata": {},
   "outputs": [
    {
     "name": "stdin",
     "output_type": "stream",
     "text": [
      " 1 2 4 21 2 0 13\n"
     ]
    },
    {
     "name": "stdout",
     "output_type": "stream",
     "text": [
      "Number of elements = 7\n"
     ]
    }
   ],
   "source": [
    "inp = list(map(int, input().split()))\n",
    "arr = np.array(inp)\n",
    "print(f'Number of elements = {arr.size}')"
   ]
  },
  {
   "cell_type": "markdown",
   "id": "19afb254-9405-4c01-9658-d992f08cfb93",
   "metadata": {},
   "source": [
    "### 10. Softmax function\n",
    "\n",
    "Create a Python function to calculate the Softmax of the given numpy 1D array. The function only accepts the numpy 1D array, otherwise raise error.\n",
    "\n",
    "$$\\Large \\sigma(\\vec z)_i = \\frac{e^{z_i}}{\\sum_{j=i}^{K}{e^{z_j}}}$$\n",
    "\n",
    "https://en.wikipedia.org/wiki/Softmax_function\n",
    "\n",
    "**Example 1:**\n",
    "\n",
    "Input:\n",
    "```bash\n",
    "[86.03331084 37.7285648  48.64908087 87.16563062 38.40852563 37.20006318]\n",
    "```\n",
    "\n",
    "Output:\n",
    "```bash\n",
    "[2.43733249e-01, 2.56112115e-22, 1.41628284e-17, 7.56266751e-01, \n",
    "       5.05514197e-22, 1.50974911e-22]\n",
    "```\n",
    "\n",
    "**Example 2:**\n",
    "\n",
    "Input:\n",
    "```bash\n",
    "[33.17344305 45.61961654 82.05405781 80.9647098  68.82830233 91.52064278]\n",
    "```\n",
    "\n",
    "Output:\n",
    "```bash\n",
    "[4.57181035e-26, 1.16249923e-20, 7.73872596e-05, 2.60358426e-05,\n",
    "       1.39571531e-10, 9.99896577e-01]\n",
    "```"
   ]
  },
  {
   "cell_type": "code",
   "execution_count": 109,
   "id": "2460085f-5bfc-49ae-829a-7dfbce1a1237",
   "metadata": {},
   "outputs": [],
   "source": [
    "def softmax(arr):\n",
    "    if arr.size == 0:\n",
    "        raise Exception(\"Array is empty\")\n",
    "    sigma = np.sum(np.exp(arr))\n",
    "    for index, el in enumerate(arr):\n",
    "        arr[index] = np.exp(el) / sigma\n",
    "    return arr"
   ]
  },
  {
   "cell_type": "code",
   "execution_count": 112,
   "id": "cbf393a9-dee2-45ec-9dea-8960903d64b0",
   "metadata": {},
   "outputs": [
    {
     "name": "stdin",
     "output_type": "stream",
     "text": [
      " 33.17344305 45.61961654 82.05405781 80.9647098  68.82830233 91.52064278\n"
     ]
    },
    {
     "name": "stdout",
     "output_type": "stream",
     "text": [
      "Result = [4.57181033e-26 1.16249922e-20 7.73872594e-05 2.60358426e-05\n",
      " 1.39571531e-10 9.99896577e-01]\n"
     ]
    }
   ],
   "source": [
    "inp = list(map(float, input().split()))\n",
    "arr = np.array(inp)\n",
    "try:    \n",
    "    arr = softmax(arr)\n",
    "    print(f'Result = {arr}')\n",
    "except Exception as e: \n",
    "    print(e)"
   ]
  },
  {
   "cell_type": "markdown",
   "id": "49c77a17-aa13-45c0-9e32-d81c25c48f64",
   "metadata": {},
   "source": [
    "### 11. Write a python function that accepts infinite number of numpy arrays and do the vertical stack to them. Then return that new array as result. The function only accepts the numpy array, otherwise raise error.\n",
    "\n",
    "**Example 1:**\n",
    "\n",
    "Input:\n",
    "```bash\n",
    "a= [[0 1 2 3 4]\n",
    " [5 6 7 8 9]]\n",
    "\n",
    "b= [[1 1 1 1 1]\n",
    " [1 1 1 1 1]]\n",
    "```\n",
    "\n",
    "Output:\n",
    "\n",
    "```bash\n",
    "[[0 1 2 3 4]\n",
    " [5 6 7 8 9]\n",
    " [1 1 1 1 1]\n",
    " [1 1 1 1 1]]\n",
    "```\n",
    "\n",
    "**Example 2:**\n",
    "\n",
    "Input:\n",
    "```bash\n",
    "a= [[0 1 2 3 4]\n",
    " [5 6 7 8 9]]\n",
    "\n",
    "b= [[1 1 1 1 1]\n",
    " [1 1 1 1 1]]\n",
    "\n",
    "c= [[0.10117373 0.1677244  0.73764059 0.83166097 0.48985695]\n",
    " [0.44581567 0.13502419 0.55692335 0.16479622 0.61193593]] \n",
    "```\n",
    "\n",
    "Output:\n",
    "```bash\n",
    "[[0.         1.         2.         3.         4.        ]\n",
    " [5.         6.         7.         8.         9.        ]\n",
    " [1.         1.         1.         1.         1.        ]\n",
    " [1.         1.         1.         1.         1.        ]\n",
    " [0.10117373 0.1677244  0.73764059 0.83166097 0.48985695]\n",
    " [0.44581567 0.13502419 0.55692335 0.16479622 0.61193593]]\n",
    "```"
   ]
  },
  {
   "cell_type": "code",
   "execution_count": null,
   "id": "a330a480-8ed4-4e59-b7d0-7873f0141647",
   "metadata": {},
   "outputs": [],
   "source": []
  }
 ],
 "metadata": {
  "kernelspec": {
   "display_name": "Python 3 (ipykernel)",
   "language": "python",
   "name": "python3"
  },
  "language_info": {
   "codemirror_mode": {
    "name": "ipython",
    "version": 3
   },
   "file_extension": ".py",
   "mimetype": "text/x-python",
   "name": "python",
   "nbconvert_exporter": "python",
   "pygments_lexer": "ipython3",
   "version": "3.11.5"
  }
 },
 "nbformat": 4,
 "nbformat_minor": 5
}
