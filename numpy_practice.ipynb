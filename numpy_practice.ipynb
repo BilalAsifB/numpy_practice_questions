{
 "cells": [
  {
   "cell_type": "markdown",
   "id": "80305c02-e609-4ae0-89f9-41b8fa363636",
   "metadata": {},
   "source": [
    "# NUMPY PRACTICE QUESTIONS "
   ]
  },
  {
   "cell_type": "code",
   "execution_count": 2,
   "id": "232a01a7-833a-4f22-814f-3930aef0734b",
   "metadata": {},
   "outputs": [],
   "source": [
    "import numpy as np"
   ]
  },
  {
   "cell_type": "markdown",
   "id": "8e8c5872-0761-4b44-b6a8-8df8ade88d13",
   "metadata": {},
   "source": [
    "### 1. Create a null vector of size 10 but the fifth value which is 1."
   ]
  },
  {
   "cell_type": "code",
   "execution_count": 3,
   "id": "61205dee-fb3e-4221-b64b-02f8b22779d6",
   "metadata": {},
   "outputs": [
    {
     "name": "stdout",
     "output_type": "stream",
     "text": [
      "[0. 0. 0. 0. 1. 0. 0. 0. 0. 0.]\n"
     ]
    }
   ],
   "source": [
    "arr = np.zeros(10)\n",
    "arr[4] = 1\n",
    "print(arr)"
   ]
  },
  {
   "cell_type": "markdown",
   "id": "b33eff76-1d0c-4e0f-9c21-2564bd0f3f72",
   "metadata": {},
   "source": [
    "### 2. Ask user to input two numbers a, b. Write a program to generate a random array of shape (a, b)           and print the array and avg of the array."
   ]
  },
  {
   "cell_type": "code",
   "execution_count": 4,
   "id": "b7780fd3-2d3f-4c6d-b7bc-4f1a0fed8e40",
   "metadata": {},
   "outputs": [
    {
     "name": "stdin",
     "output_type": "stream",
     "text": [
      " 5 6\n"
     ]
    },
    {
     "name": "stdout",
     "output_type": "stream",
     "text": [
      "[[0.72618191 0.24323005 0.44723617 0.02654674 0.17051602 0.12853483]\n",
      " [0.95850096 0.2966085  0.76993215 0.51356365 0.16703802 0.74441498]\n",
      " [0.52335347 0.02671501 0.24411168 0.9312998  0.47612177 0.40266492]\n",
      " [0.84777494 0.91482263 0.50631563 0.91023356 0.99645241 0.18382375]\n",
      " [0.8338564  0.02100294 0.98540925 0.55630586 0.49891022 0.99193778]]\n",
      "Average: 0.5347805325401538\n"
     ]
    }
   ],
   "source": [
    "a, b = map(int, input().split())\n",
    "arr = np.random.random((a, b))\n",
    "print(arr)\n",
    "print(f'Average: {np.average(arr)}')"
   ]
  },
  {
   "cell_type": "markdown",
   "id": "127228fa-0a99-4532-bb90-eab54a2411e0",
   "metadata": {},
   "source": [
    "### 3. Write a function to create a 2d array with 1 on the border and 0 inside. Take 2-D array shape as (a,b) as parameter to function.\n",
    "\n",
    "Eg.-\n",
    "```\n",
    "[[1,1,1,1],\n",
    "[1,0,0,1],\n",
    "[1,0,0,1],\n",
    "[1,1,1,1]]\n",
    "```"
   ]
  },
  {
   "cell_type": "code",
   "execution_count": 5,
   "id": "d2f9902e-fd6c-427c-95b9-46c6611cf0a8",
   "metadata": {},
   "outputs": [
    {
     "name": "stdin",
     "output_type": "stream",
     "text": [
      " 6 7\n"
     ]
    },
    {
     "name": "stdout",
     "output_type": "stream",
     "text": [
      "[[1. 1. 1. 1. 1. 1. 1.]\n",
      " [1. 0. 0. 0. 0. 0. 1.]\n",
      " [1. 0. 0. 0. 0. 0. 1.]\n",
      " [1. 0. 0. 0. 0. 0. 1.]\n",
      " [1. 0. 0. 0. 0. 0. 1.]\n",
      " [1. 1. 1. 1. 1. 1. 1.]]\n"
     ]
    }
   ],
   "source": [
    "def matrix_func(a, b):\n",
    "    arr = np.ones((a, b))\n",
    "    arr[1:-1, 1:-1] = 0\n",
    "    print(arr)\n",
    "\n",
    "a, b = map(int, input().split())\n",
    "matrix_func(a, b)"
   ]
  },
  {
   "cell_type": "markdown",
   "id": "425c8948-2c77-4129-ab38-3ecc901ce810",
   "metadata": {},
   "source": [
    "### 4. Create a vector of size 10 with values ranging from 0 to 1, both excluded."
   ]
  },
  {
   "cell_type": "code",
   "execution_count": 6,
   "id": "0fd807da-042e-422b-9a23-e30eee2c0f0e",
   "metadata": {},
   "outputs": [
    {
     "name": "stdout",
     "output_type": "stream",
     "text": [
      "[0.09090909 0.18181818 0.27272727 0.36363636 0.45454545 0.54545455\n",
      " 0.63636364 0.72727273 0.81818182 0.90909091]\n"
     ]
    }
   ],
   "source": [
    "arr = np.linspace(0, 1, 12)[1:-1]\n",
    "print(arr)"
   ]
  },
  {
   "cell_type": "markdown",
   "id": "77fb8685-ced8-4c3a-a26e-dea12e444735",
   "metadata": {},
   "source": [
    "### 5. Create a 5x5 matrix with row values ranging from 0 to 4."
   ]
  },
  {
   "cell_type": "markdown",
   "id": "59204764-a22e-40e5-840c-b9613cbbde60",
   "metadata": {},
   "source": [
    "> Method # 1"
   ]
  },
  {
   "cell_type": "code",
   "execution_count": 7,
   "id": "00b965f5-8a41-4426-b227-b4eabce54a3c",
   "metadata": {},
   "outputs": [
    {
     "name": "stdout",
     "output_type": "stream",
     "text": [
      "[[0 1 2 3 4]\n",
      " [0 1 2 3 4]\n",
      " [0 1 2 3 4]\n",
      " [0 1 2 3 4]\n",
      " [0 1 2 3 4]]\n"
     ]
    }
   ],
   "source": [
    "arr = np.tile(np.arange(0, 5), (5,1))\n",
    "print(arr)"
   ]
  },
  {
   "cell_type": "markdown",
   "id": "f8f1dc0d-3af9-4ce9-8ed4-9d292ebc828d",
   "metadata": {},
   "source": [
    "> Method # 2"
   ]
  },
  {
   "cell_type": "code",
   "execution_count": 8,
   "id": "30f1b19b-eee6-48b9-a4a4-2df96cd54fab",
   "metadata": {},
   "outputs": [
    {
     "name": "stdout",
     "output_type": "stream",
     "text": [
      "[[0 1 2 3 4]\n",
      " [0 1 2 3 4]\n",
      " [0 1 2 3 4]\n",
      " [0 1 2 3 4]\n",
      " [0 1 2 3 4]]\n"
     ]
    }
   ],
   "source": [
    "arr = np.vstack([np.arange(0, 5) for _ in range(5)])\n",
    "print(arr)"
   ]
  },
  {
   "cell_type": "markdown",
   "id": "578abae3-68b5-44c6-9892-2baa3a34f9b7",
   "metadata": {},
   "source": [
    "### 6. Consider a random integer (in range 1 to 100) vector with shape `(10,2)` representing coordinates, and coordinates of a point as array is given. Create an array of distance of each point in the random vectros from the given point. Distance array should be interger type.\n",
    "\n",
    "```\n",
    "point = np.array([2,3]) \n",
    "```\n"
   ]
  },
  {
   "cell_type": "markdown",
   "id": "b1690fdd-8b31-49cf-96ab-e6e65e35b07e",
   "metadata": {},
   "source": [
    "> Method # 1:"
   ]
  },
  {
   "cell_type": "code",
   "execution_count": 9,
   "id": "0b0c961f-fc84-4a2f-a36b-ec9363ea2485",
   "metadata": {},
   "outputs": [
    {
     "name": "stdout",
     "output_type": "stream",
     "text": [
      "Distance from [28 40] = 7.42\n",
      "Distance from [29 22] = 6.16\n",
      "Distance from [97 32] = 10.77\n",
      "Distance from [52 87] = 11.22\n",
      "Distance from [55 12] = 7.35\n",
      "Distance from [22 49] = 7.62\n",
      "Distance from [56 83] = 11.22\n",
      "Distance from [15 58] = 7.75\n",
      "Distance from [11 12] = 3.16\n",
      "Distance from [49 88] = 11.14\n"
     ]
    }
   ],
   "source": [
    "def euc_distance(x, y):\n",
    "    point = np.array([2, 3])\n",
    "    return np.round(((x - point[0]**2) + (y - point[1]**2))**0.5, 2)\n",
    "\n",
    "\n",
    "rng = np.random.default_rng()\n",
    "arr = rng.integers(1, 100, 20).reshape(10, 2)\n",
    "for cor in arr:\n",
    "    print(f'Distance from {cor} = {euc_distance(cor[0], cor[1])}')"
   ]
  },
  {
   "cell_type": "markdown",
   "id": "c73f972a-3c29-473d-87e5-0a50cb67386e",
   "metadata": {},
   "source": [
    "> Method # 2:"
   ]
  },
  {
   "cell_type": "code",
   "execution_count": 10,
   "id": "f190ba18-67e7-4bd1-8a9f-4b7f94528d1d",
   "metadata": {},
   "outputs": [
    {
     "name": "stdout",
     "output_type": "stream",
     "text": [
      "Distance from [ 7 98] = 95.13\n",
      "Distance from [81  1] = 79.03\n",
      "Distance from [53 98] = 107.82\n",
      "Distance from [ 4 95] = 92.02\n",
      "Distance from [87 95] = 125.26\n",
      "Distance from [21 25] = 29.07\n",
      "Distance from [34 27] = 40.0\n",
      "Distance from [86 39] = 91.39\n",
      "Distance from [45 68] = 77.94\n",
      "Distance from [17 69] = 67.68\n"
     ]
    }
   ],
   "source": [
    "def euc_distance(arr):\n",
    "    point = np.array([2, 3])\n",
    "    return np.linalg.norm(arr - point, axis=1)\n",
    "\n",
    "arr = np.random.randint(1, 101, size=(10, 2))\n",
    "res = euc_distance(arr)\n",
    "for i in range(10):\n",
    "    print(f'Distance from {arr[i]} = {np.round(res[i], 2)}')"
   ]
  },
  {
   "cell_type": "markdown",
   "id": "85ccdb6f-419f-41da-a892-41260a8609f0",
   "metadata": {},
   "source": [
    "### 7. Consider a (6,7,8) shape array, what is the index (x,y,z) of the 100th element?"
   ]
  },
  {
   "cell_type": "code",
   "execution_count": 11,
   "id": "129a90eb-2280-4f4f-a260-f48268d19215",
   "metadata": {},
   "outputs": [
    {
     "name": "stdout",
     "output_type": "stream",
     "text": [
      "100th element = 99\n"
     ]
    }
   ],
   "source": [
    "arr = np.arange(6*7*8).reshape(6, 7, 8)\n",
    "print(f'100th element = {arr[1, 5, 3]}') # or arr[1, -2, 3]"
   ]
  },
  {
   "cell_type": "markdown",
   "id": "2ecb9927-23d7-4800-ab3e-eb201c90ffe2",
   "metadata": {},
   "source": [
    "### 8. You are given a space separated list of numbers. Your task is to print a reversed NumPy array with the element type float.\n",
    "**Input Format:**\n",
    "\n",
    "A single line of input containing space separated numbers.\n",
    "\n",
    "**Output Format:**\n",
    "\n",
    "Print the reverse NumPy array with type float.\n",
    "\n",
    "**Example 1:**\n",
    "\n",
    "Input:\n",
    "\n",
    "```bash\n",
    "1 2 3 4 -8 -10\n",
    "```\n",
    "\n",
    "Output:\n",
    "\n",
    "```bash\n",
    "[-10.  -8.   4.   3.   2.   1.]\n",
    "```\n"
   ]
  },
  {
   "cell_type": "code",
   "execution_count": 12,
   "id": "482d565f-518b-473d-9d9a-6a775d25cf12",
   "metadata": {},
   "outputs": [
    {
     "name": "stdin",
     "output_type": "stream",
     "text": [
      " 54 -9 0 12 33 -91\n"
     ]
    },
    {
     "name": "stdout",
     "output_type": "stream",
     "text": [
      "INput: [ 54  -9   0  12  33 -91]\n",
      "Output: [-91.  33.  12.   0.  -9.  54.]\n"
     ]
    }
   ],
   "source": [
    "inp = list(map(int, input().split()))\n",
    "arr = np.array(inp)\n",
    "rev = arr[::-1].astype(float)\n",
    "print(f'INput: {arr}\\nOutput: {rev}')"
   ]
  },
  {
   "cell_type": "markdown",
   "id": "59db2ec3-eff3-4a05-8fc3-65563997bee0",
   "metadata": {},
   "source": [
    "### 10. Count the number of elements of a numpy array.\n",
    "**Example 1:**\n",
    "\n",
    "Input:\n",
    "```bash\n",
    "np.array([])\n",
    "```\n",
    "\n",
    "Output:\n",
    "```bash\n",
    "elements_count :  0\n",
    "```\n",
    "\n",
    "**Example 2:**\n",
    "\n",
    "Input:\n",
    "```bash\n",
    "np.array([1, 2])\n",
    "```\n",
    "\n",
    "Output:\n",
    "```bash\n",
    "elements_count :  2\n",
    "```"
   ]
  },
  {
   "cell_type": "code",
   "execution_count": 13,
   "id": "4c8aeb20-c3f1-4cf4-b17f-2003a9ee824b",
   "metadata": {},
   "outputs": [
    {
     "name": "stdin",
     "output_type": "stream",
     "text": [
      " 9 28 22 2 1\n"
     ]
    },
    {
     "name": "stdout",
     "output_type": "stream",
     "text": [
      "Number of elements = 5\n"
     ]
    }
   ],
   "source": [
    "inp = list(map(int, input().split()))\n",
    "arr = np.array(inp)\n",
    "print(f'Number of elements = {arr.size}')"
   ]
  },
  {
   "cell_type": "markdown",
   "id": "19afb254-9405-4c01-9658-d992f08cfb93",
   "metadata": {},
   "source": [
    "### 10. Softmax function\n",
    "\n",
    "Create a Python function to calculate the Softmax of the given numpy 1D array. The function only accepts the numpy 1D array, otherwise raise error.\n",
    "\n",
    "$$\\Large \\sigma(\\vec z)_i = \\frac{e^{z_i}}{\\sum_{j=i}^{K}{e^{z_j}}}$$\n",
    "\n",
    "https://en.wikipedia.org/wiki/Softmax_function\n",
    "\n",
    "**Example 1:**\n",
    "\n",
    "Input:\n",
    "```bash\n",
    "[86.03331084 37.7285648  48.64908087 87.16563062 38.40852563 37.20006318]\n",
    "```\n",
    "\n",
    "Output:\n",
    "```bash\n",
    "[2.43733249e-01, 2.56112115e-22, 1.41628284e-17, 7.56266751e-01, \n",
    "       5.05514197e-22, 1.50974911e-22]\n",
    "```\n",
    "\n",
    "**Example 2:**\n",
    "\n",
    "Input:\n",
    "```bash\n",
    "[33.17344305 45.61961654 82.05405781 80.9647098  68.82830233 91.52064278]\n",
    "```\n",
    "\n",
    "Output:\n",
    "```bash\n",
    "[4.57181035e-26, 1.16249923e-20, 7.73872596e-05, 2.60358426e-05,\n",
    "       1.39571531e-10, 9.99896577e-01]\n",
    "```"
   ]
  },
  {
   "cell_type": "code",
   "execution_count": 14,
   "id": "2460085f-5bfc-49ae-829a-7dfbce1a1237",
   "metadata": {},
   "outputs": [],
   "source": [
    "def softmax(arr):\n",
    "    if arr.size == 0:\n",
    "        raise Exception(\"Array is empty\")\n",
    "    sigma = np.sum(np.exp(arr))\n",
    "    for index, el in enumerate(arr):\n",
    "        arr[index] = np.exp(el) / sigma\n",
    "    return arr"
   ]
  },
  {
   "cell_type": "code",
   "execution_count": 15,
   "id": "cbf393a9-dee2-45ec-9dea-8960903d64b0",
   "metadata": {},
   "outputs": [
    {
     "name": "stdin",
     "output_type": "stream",
     "text": [
      " 33.17344305 45.61961654 82.05405781 80.9647098  68.82830233 91.52064278\n"
     ]
    },
    {
     "name": "stdout",
     "output_type": "stream",
     "text": [
      "Result = [4.57181033e-26 1.16249922e-20 7.73872594e-05 2.60358426e-05\n",
      " 1.39571531e-10 9.99896577e-01]\n"
     ]
    }
   ],
   "source": [
    "inp = list(map(float, input().split()))\n",
    "arr = np.array(inp)\n",
    "try:    \n",
    "    arr = softmax(arr)\n",
    "    print(f'Result = {arr}')\n",
    "except Exception as e: \n",
    "    print(e)"
   ]
  },
  {
   "cell_type": "markdown",
   "id": "49c77a17-aa13-45c0-9e32-d81c25c48f64",
   "metadata": {},
   "source": [
    "### 11. Write a python function that accepts infinite number of numpy arrays and do the vertical stack to them. Then return that new array as result. The function only accepts the numpy array, otherwise raise error.\n",
    "\n",
    "**Example 1:**\n",
    "\n",
    "Input:\n",
    "```bash\n",
    "a= [[0 1 2 3 4]\n",
    " [5 6 7 8 9]]\n",
    "\n",
    "b= [[1 1 1 1 1]\n",
    " [1 1 1 1 1]]\n",
    "```\n",
    "\n",
    "Output:\n",
    "\n",
    "```bash\n",
    "[[0 1 2 3 4]\n",
    " [5 6 7 8 9]\n",
    " [1 1 1 1 1]\n",
    " [1 1 1 1 1]]\n",
    "```\n",
    "\n",
    "**Example 2:**\n",
    "\n",
    "Input:\n",
    "```bash\n",
    "a= [[0 1 2 3 4]\n",
    " [5 6 7 8 9]]\n",
    "\n",
    "b= [[1 1 1 1 1]\n",
    " [1 1 1 1 1]]\n",
    "\n",
    "c= [[0.10117373 0.1677244  0.73764059 0.83166097 0.48985695]\n",
    " [0.44581567 0.13502419 0.55692335 0.16479622 0.61193593]] \n",
    "```\n",
    "\n",
    "Output:\n",
    "```bash\n",
    "[[0.         1.         2.         3.         4.        ]\n",
    " [5.         6.         7.         8.         9.        ]\n",
    " [1.         1.         1.         1.         1.        ]\n",
    " [1.         1.         1.         1.         1.        ]\n",
    " [0.10117373 0.1677244  0.73764059 0.83166097 0.48985695]\n",
    " [0.44581567 0.13502419 0.55692335 0.16479622 0.61193593]]\n",
    "```"
   ]
  },
  {
   "cell_type": "code",
   "execution_count": 25,
   "id": "a330a480-8ed4-4e59-b7d0-7873f0141647",
   "metadata": {},
   "outputs": [],
   "source": [
    "def stack_func(*args):\n",
    "    if all(isinstance(arg, np.ndarray) for arg in args):\n",
    "        res = np.vstack(args)\n",
    "        print(res)\n",
    "    else:\n",
    "        raise Exception(\"Wrong type\")"
   ]
  },
  {
   "cell_type": "code",
   "execution_count": 28,
   "id": "31131755-fe69-4962-a4ba-f0366b1357ee",
   "metadata": {},
   "outputs": [
    {
     "name": "stdout",
     "output_type": "stream",
     "text": [
      "[[0.         1.         2.         3.         4.        ]\n",
      " [5.         6.         7.         8.         9.        ]\n",
      " [1.         1.         1.         1.         1.        ]\n",
      " [1.         1.         1.         1.         1.        ]\n",
      " [0.76920031 0.70267404 0.74680348 0.78858109 0.61797074]\n",
      " [0.1913889  0.28837937 0.71932731 0.16062536 0.356567  ]]\n"
     ]
    }
   ],
   "source": [
    "try:\n",
    "    stack_func(np.array([i for i in range(10)]).reshape(2, 5), np.ones((2, 5)), np.random.random((2, 5)))\n",
    "except Exception as e:\n",
    "    print(e)"
   ]
  },
  {
   "cell_type": "markdown",
   "id": "0a0fc61b-b25f-4db5-8ec8-303592f8445a",
   "metadata": {},
   "source": [
    "### 12. Create a python function named **date_array** that accepts two dates as string format and returns a numpy array of dates between those 2 dates. The function only accept 2 strings, otherwise raise error. The date format should be like this only: `2022-12-6`. The end date should be included and for simplicity, choose dates from a same year.\n",
    "\n",
    "**Example 1:**\n",
    "\n",
    "Input:\n",
    "```bash\n",
    "date_array(start = '2020-09-15', end = '2020-09-25')\n",
    "```\n",
    "\n",
    "Output:\n",
    "```bash\n",
    "['2020-09-15', '2020-09-16', '2020-09-17', '2020-09-18',\n",
    " '2020-09-19', '2020-09-20', '2020-09-21', '2020-09-22',\n",
    " '2020-09-23', '2020-09-24', '2020-09-25']\n",
    "```\n",
    "\n",
    "**Example 2:**\n",
    "\n",
    "Input:\n",
    "```bash\n",
    "date_array(start = '2022-12-01', end = '2022-12-06')\n",
    "```\n",
    "\n",
    "Output:\n",
    "```bash\n",
    "['2022-12-01', '2022-12-02', '2022-12-03', '2022-12-04', '2022-12-05', '2022-12-06']\n",
    "```\n",
    "\n",
    "**Example 3:**\n",
    "\n",
    "Input:\n",
    "```bash\n",
    "date_array(start = '2020-11-25', end = '2020-11-30')\n",
    "```\n",
    "\n",
    "Output:\n",
    "```bash\n",
    "['2020-11-25', '2020-11-26', '2020-11-27', '2020-11-28',\n",
    " '2020-11-29', '2020-11-30']\n",
    "```"
   ]
  },
  {
   "cell_type": "code",
   "execution_count": 37,
   "id": "8cccfae0-c4f3-43a7-9471-032c4b1bde6b",
   "metadata": {},
   "outputs": [],
   "source": [
    "def find_date(date_1, date_2):\n",
    "    if not isinstance(date_1, str) or not isinstance(date_2, str):\n",
    "        raise Exception(\"Wrong type\")\n",
    "    \n",
    "    date_format = \"%Y-%m-%d\"\n",
    "\n",
    "    try:\n",
    "        start = np.datetime64(date_1, 'D')\n",
    "        end = np.datetime64(date_2, 'D')\n",
    "    except ValueError:\n",
    "        raise Exception(\"Incorrect format\")\n",
    "\n",
    "    if start.astype('datetime64[Y]') != end.astype('datetime64[Y]'):\n",
    "        raise Exception(\"Years should be same\")\n",
    "\n",
    "    total_days = (end - start).astype(int) + 1\n",
    "    arr = np.arange(start, start + np.timedelta64(total_days, 'D'))\n",
    "\n",
    "    return arr"
   ]
  },
  {
   "cell_type": "code",
   "execution_count": 39,
   "id": "98224512-e56f-441a-8242-57c85a3d2594",
   "metadata": {},
   "outputs": [
    {
     "name": "stdout",
     "output_type": "stream",
     "text": [
      "['2020-09-15' '2020-09-16' '2020-09-17' '2020-09-18' '2020-09-19'\n",
      " '2020-09-20' '2020-09-21' '2020-09-22' '2020-09-23' '2020-09-24'\n",
      " '2020-09-25']\n"
     ]
    }
   ],
   "source": [
    "try:\n",
    "    date_arr = find_date('2020-09-15', '2020-09-25')\n",
    "    print(date_arr)\n",
    "except Exception as e:\n",
    "    print(e)"
   ]
  },
  {
   "cell_type": "markdown",
   "id": "a0570273-18ae-461e-afb4-84fdc1e02f5c",
   "metadata": {},
   "source": [
    "### 13. Subtract the mean of each row from a matrix."
   ]
  },
  {
   "cell_type": "code",
   "execution_count": 72,
   "id": "d07f3d3d-da66-454d-98e9-4070e3decce2",
   "metadata": {},
   "outputs": [
    {
     "name": "stdout",
     "output_type": "stream",
     "text": [
      "~ Original:\n",
      "[[0 1 2 3 4]\n",
      " [5 6 7 8 9]]\n",
      "~ Mean of each row:\n",
      "[[2.]\n",
      " [7.]]\n",
      "~ After subtraction:\n",
      "[[-2. -1.  0.  1.  2.]\n",
      " [-2. -1.  0.  1.  2.]]\n"
     ]
    }
   ],
   "source": [
    "arr = np.arange(10).reshape(2,5)\n",
    "m_arr = np.mean(arr, axis=1, keepdims=True)\n",
    "res = arr - m_arr\n",
    "print(f'~ Original:\\n{arr}\\n~ Mean of each row:\\n{m_arr}\\n~ After subtraction:\\n{res}')"
   ]
  },
  {
   "cell_type": "markdown",
   "id": "cbbc5948-6039-48e7-879a-4590abde2c21",
   "metadata": {},
   "source": [
    "### 14. Swap column-1 of array with column-2 in the array."
   ]
  },
  {
   "cell_type": "code",
   "execution_count": 78,
   "id": "10224b1d-70d4-4507-8d22-df75aee6a82a",
   "metadata": {},
   "outputs": [
    {
     "name": "stdout",
     "output_type": "stream",
     "text": [
      "~ Before:\n",
      "[[ 0.          2.22222222]\n",
      " [ 4.44444444  6.66666667]\n",
      " [ 8.88888889 11.11111111]\n",
      " [13.33333333 15.55555556]\n",
      " [17.77777778 20.        ]]\n",
      "~ After:\n",
      "[[ 2.22222222  0.        ]\n",
      " [ 6.66666667  4.44444444]\n",
      " [11.11111111  8.88888889]\n",
      " [15.55555556 13.33333333]\n",
      " [20.         17.77777778]]\n"
     ]
    }
   ],
   "source": [
    "arr = np.linspace(0, 20, 10).reshape(5, 2)\n",
    "print(f'~ Before:\\n{arr}')\n",
    "arr[:, [1, 0]] = arr[:, [0, 1]]\n",
    "print(f'~ After:\\n{arr}')"
   ]
  },
  {
   "cell_type": "markdown",
   "id": "2a5a7080-2314-4b07-a183-127109d14fad",
   "metadata": {},
   "source": [
    "### 15. Replace odd elements in arrays with -1."
   ]
  },
  {
   "cell_type": "code",
   "execution_count": 90,
   "id": "a2498974-1c5b-45ad-97c7-ce51a3bcd181",
   "metadata": {},
   "outputs": [
    {
     "name": "stdout",
     "output_type": "stream",
     "text": [
      "~ Before:\n",
      "[[ 0  1  2  3]\n",
      " [ 4  5  6  7]\n",
      " [ 8  9 10 11]\n",
      " [12 13 14 15]\n",
      " [16 17 18 19]]\n",
      "~ After:\n",
      "[[ 0 -1  2 -1]\n",
      " [ 4 -1  6 -1]\n",
      " [ 8 -1 10 -1]\n",
      " [12 -1 14 -1]\n",
      " [16 -1 18 -1]]\n"
     ]
    }
   ],
   "source": [
    "arr = np.arange(0, 20).reshape(5, 4)\n",
    "print(f'~ Before:\\n{arr}')\n",
    "odd_el = arr % 2 != 0\n",
    "arr[odd_el] = -1\n",
    "print(f'~ After:\\n{arr}')"
   ]
  },
  {
   "cell_type": "markdown",
   "id": "da1c0b55-5363-457c-ae15-9cfea8d8ed58",
   "metadata": {},
   "source": [
    "### 16. Given two arrays of same shape make an array of max out of two arrays. (Numpy way)\n",
    "```\n",
    "a=np.array([6,3,1,5,8])\n",
    "b=np.array([3,2,1,7,2])\n",
    "\n",
    "Result-> [6 3 1 7 8]\n",
    "``` "
   ]
  },
  {
   "cell_type": "code",
   "execution_count": 93,
   "id": "57e168e7-ddc7-4559-bc91-33137084e9e9",
   "metadata": {},
   "outputs": [
    {
     "name": "stdout",
     "output_type": "stream",
     "text": [
      "~ Array 1:\n",
      "[6 3 1 5 8]\n",
      "~ Array 2:\n",
      "[3 2 1 7 2]\n",
      "~ Max array:\n",
      "[6 3 1 7 8]\n"
     ]
    }
   ],
   "source": [
    "def max_arr(arr_1, arr_2):\n",
    "    max_arr = np.maximum(arr_1, arr_2)\n",
    "    print(f'~ Array 1:\\n{arr_1}\\n~ Array 2:\\n{arr_2}\\n~ Max array:\\n{max_arr}')\n",
    "\n",
    "max_arr(np.array([6,3,1,5,8]), np.array([3,2,1,7,2]))"
   ]
  },
  {
   "cell_type": "markdown",
   "id": "b125d06f-2c12-4bde-915e-13c5547ec6c6",
   "metadata": {},
   "source": [
    "### 17. Answer below asked questions on given array:\n",
    "1. Fetch Every alternate column of the array\n",
    "2. Normalise the given array\n",
    "\n",
    "https://en.wikipedia.org/wiki/Normalization_(statistics)\n",
    "\n",
    "There are different form of normalisation for this question use below formula.\n",
    "\n",
    "$$\\large X_{normalized} = \\frac{X - X_{min}}{X_{max} - X_{min}}$$\n",
    "\n",
    "```python\n",
    "arr1=np.random.randint(low=1, high=10000, size=40).reshape(8,5)\n",
    "```\n"
   ]
  },
  {
   "cell_type": "code",
   "execution_count": 94,
   "id": "3f16d063-8b8f-4e17-b5b1-d44ba0825e62",
   "metadata": {},
   "outputs": [
    {
     "name": "stdout",
     "output_type": "stream",
     "text": [
      "[[4977 9810 8448 2117 2551]\n",
      " [3610 2879 5827 1785 2325]\n",
      " [9322 9850 6039 4509  714]\n",
      " [3436 5709 5671 9438 5459]\n",
      " [5082 5312 1196 2932 9783]\n",
      " [8846 7832 5059 5406 4226]\n",
      " [6979 3412 8506 9821 7909]\n",
      " [9591 2883  954 2146 4262]]\n"
     ]
    }
   ],
   "source": [
    "arr1 = np.random.randint(low=1, high=10000, size=40).reshape(8,5)\n",
    "print(arr1)"
   ]
  },
  {
   "cell_type": "markdown",
   "id": "47dd23bd-6922-419e-8db7-d1f7fc0000c6",
   "metadata": {},
   "source": [
    "> Part # 1:"
   ]
  },
  {
   "cell_type": "code",
   "execution_count": 96,
   "id": "c3345568-d1e6-4378-9fb4-bfe0cfefd6ee",
   "metadata": {},
   "outputs": [
    {
     "name": "stdout",
     "output_type": "stream",
     "text": [
      "[[4977 8448 2551]\n",
      " [3610 5827 2325]\n",
      " [9322 6039  714]\n",
      " [3436 5671 5459]\n",
      " [5082 1196 9783]\n",
      " [8846 5059 4226]\n",
      " [6979 8506 7909]\n",
      " [9591  954 4262]]\n"
     ]
    }
   ],
   "source": [
    "print(arr1[:,::2])"
   ]
  },
  {
   "cell_type": "markdown",
   "id": "510db60c-1b88-46d1-876f-009123de4d37",
   "metadata": {},
   "source": [
    "> Part # 2:"
   ]
  },
  {
   "cell_type": "code",
   "execution_count": 104,
   "id": "cbfe4fc6-5a6c-427e-ae7e-ad38bf45dfcd",
   "metadata": {},
   "outputs": [
    {
     "name": "stdout",
     "output_type": "stream",
     "text": [
      "[[0.46661559 0.99562172 0.84654116 0.1535683  0.20107268]\n",
      " [0.31698774 0.23697461 0.55965412 0.11722855 0.17633538]\n",
      " [0.94220665 1.         0.58285902 0.41538967 0.        ]\n",
      " [0.29794221 0.54673818 0.54257881 0.95490368 0.51937391]\n",
      " [0.47810858 0.50328371 0.05275832 0.24277583 0.99266637]\n",
      " [0.89010508 0.77911559 0.47559107 0.51357268 0.38441331]\n",
      " [0.68574869 0.29531524 0.85288967 0.99682574 0.78754378]\n",
      " [0.97165061 0.23741243 0.0262697  0.15674256 0.38835377]]\n"
     ]
    }
   ],
   "source": [
    "def normalize(arr):\n",
    "    x_min = np.min(arr)\n",
    "    x_max = np.max(arr)\n",
    "    \n",
    "    return (arr - x_min) / (x_max - x_min)\n",
    "\n",
    "x_norm = normalize(arr1)\n",
    "print(x_norm)"
   ]
  },
  {
   "cell_type": "markdown",
   "id": "9221860f-309b-4ee4-9288-9cf9bab9976c",
   "metadata": {},
   "source": [
    "### 18. Write a function which will accept 2 arguments.\n",
    "First: A 1D numpy array arr\n",
    "\n",
    "Second: An integer n {Please make sure n<=len(arr)}\n",
    "\n",
    "Output: The output should be the nth largest item out of the array\n",
    "```\n",
    "# Example1 : arr=(12,34,40,7,1,0) and n=3, the output should be 12\n",
    "# Example2 : arr=(12,34,40,7,1,0) and n=1, the output should be 40\n",
    "```"
   ]
  },
  {
   "cell_type": "code",
   "execution_count": 116,
   "id": "cd8d3c16-ddcf-4aad-8f6b-ce1126019b77",
   "metadata": {},
   "outputs": [
    {
     "name": "stdout",
     "output_type": "stream",
     "text": [
      "Array = [82 18 77 57 38 79 47 49 86 38] and n = 6, ouptut = 49\n"
     ]
    }
   ],
   "source": [
    "def n_max(arr, n):\n",
    "    if n > len(arr):\n",
    "        raise Exception(\"n should be less than equal to array length\")\n",
    "    return np.sort(arr)[len(arr) - n]\n",
    "\n",
    "try:\n",
    "    arr = np.random.randint(low=0, high=90, size=10)\n",
    "    n = 6\n",
    "    n_max_el = n_max(arr, n)\n",
    "    print(f'Array = {arr} and n = {n}, ouptut = {n_max_el}')\n",
    "except Exception as e:\n",
    "    print(e)"
   ]
  },
  {
   "cell_type": "markdown",
   "id": "3a70915d-98fc-49fc-8b53-c0583b6b701e",
   "metadata": {},
   "source": [
    "### 19. Create the following pattern without hardcoding. Use only numpy functions and the below input array a.\n",
    "```\n",
    "# Input: a = np.array([1,2,3])\n",
    "# Output: array([1, 1, 1, 2, 2, 2, 3, 3, 3, 1, 2, 3, 1, 2, 3, 1, 2, 3])\n",
    "```"
   ]
  },
  {
   "cell_type": "code",
   "execution_count": 119,
   "id": "6800993c-aeeb-4507-9078-a154576e3734",
   "metadata": {},
   "outputs": [
    {
     "name": "stdout",
     "output_type": "stream",
     "text": [
      "[1 1 1 2 2 2 3 3 3 1 2 3 1 2 3 1 2 3]\n"
     ]
    }
   ],
   "source": [
    "def pattern(arr):\n",
    "    return np.hstack((np.repeat(arr, 3), np.tile(arr, 3)))\n",
    "\n",
    "a = np.array([1,2,3])\n",
    "print(pattern(a))"
   ]
  }
 ],
 "metadata": {
  "kernelspec": {
   "display_name": "Python 3 (ipykernel)",
   "language": "python",
   "name": "python3"
  },
  "language_info": {
   "codemirror_mode": {
    "name": "ipython",
    "version": 3
   },
   "file_extension": ".py",
   "mimetype": "text/x-python",
   "name": "python",
   "nbconvert_exporter": "python",
   "pygments_lexer": "ipython3",
   "version": "3.11.5"
  }
 },
 "nbformat": 4,
 "nbformat_minor": 5
}
