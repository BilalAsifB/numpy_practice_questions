{
 "cells": [
  {
   "cell_type": "markdown",
   "id": "80305c02-e609-4ae0-89f9-41b8fa363636",
   "metadata": {},
   "source": [
    "# NUMPY PRACTICE QUESTIONS "
   ]
  },
  {
   "cell_type": "code",
   "execution_count": 1,
   "id": "232a01a7-833a-4f22-814f-3930aef0734b",
   "metadata": {},
   "outputs": [],
   "source": [
    "import numpy as np\n",
    "import matplotlib.pyplot as plt"
   ]
  },
  {
   "cell_type": "markdown",
   "id": "8e8c5872-0761-4b44-b6a8-8df8ade88d13",
   "metadata": {},
   "source": [
    "### 1. Create a null vector of size 10 but the fifth value which is 1."
   ]
  },
  {
   "cell_type": "code",
   "execution_count": 3,
   "id": "61205dee-fb3e-4221-b64b-02f8b22779d6",
   "metadata": {},
   "outputs": [
    {
     "name": "stdout",
     "output_type": "stream",
     "text": [
      "[0. 0. 0. 0. 1. 0. 0. 0. 0. 0.]\n"
     ]
    }
   ],
   "source": [
    "arr = np.zeros(10)\n",
    "arr[4] = 1\n",
    "print(arr)"
   ]
  },
  {
   "cell_type": "markdown",
   "id": "b33eff76-1d0c-4e0f-9c21-2564bd0f3f72",
   "metadata": {},
   "source": [
    "### 2. Ask user to input two numbers a, b. Write a program to generate a random array of shape (a, b)           and print the array and avg of the array."
   ]
  },
  {
   "cell_type": "code",
   "execution_count": 4,
   "id": "b7780fd3-2d3f-4c6d-b7bc-4f1a0fed8e40",
   "metadata": {},
   "outputs": [
    {
     "name": "stdin",
     "output_type": "stream",
     "text": [
      " 5 6\n"
     ]
    },
    {
     "name": "stdout",
     "output_type": "stream",
     "text": [
      "[[0.72618191 0.24323005 0.44723617 0.02654674 0.17051602 0.12853483]\n",
      " [0.95850096 0.2966085  0.76993215 0.51356365 0.16703802 0.74441498]\n",
      " [0.52335347 0.02671501 0.24411168 0.9312998  0.47612177 0.40266492]\n",
      " [0.84777494 0.91482263 0.50631563 0.91023356 0.99645241 0.18382375]\n",
      " [0.8338564  0.02100294 0.98540925 0.55630586 0.49891022 0.99193778]]\n",
      "Average: 0.5347805325401538\n"
     ]
    }
   ],
   "source": [
    "a, b = map(int, input().split())\n",
    "arr = np.random.random((a, b))\n",
    "print(arr)\n",
    "print(f'Average: {np.average(arr)}')"
   ]
  },
  {
   "cell_type": "markdown",
   "id": "127228fa-0a99-4532-bb90-eab54a2411e0",
   "metadata": {},
   "source": [
    "### 3. Write a function to create a 2d array with 1 on the border and 0 inside. Take 2-D array shape as (a,b) as parameter to function.\n",
    "\n",
    "Eg.-\n",
    "```\n",
    "[[1,1,1,1],\n",
    "[1,0,0,1],\n",
    "[1,0,0,1],\n",
    "[1,1,1,1]]\n",
    "```"
   ]
  },
  {
   "cell_type": "code",
   "execution_count": 5,
   "id": "d2f9902e-fd6c-427c-95b9-46c6611cf0a8",
   "metadata": {},
   "outputs": [
    {
     "name": "stdin",
     "output_type": "stream",
     "text": [
      " 6 7\n"
     ]
    },
    {
     "name": "stdout",
     "output_type": "stream",
     "text": [
      "[[1. 1. 1. 1. 1. 1. 1.]\n",
      " [1. 0. 0. 0. 0. 0. 1.]\n",
      " [1. 0. 0. 0. 0. 0. 1.]\n",
      " [1. 0. 0. 0. 0. 0. 1.]\n",
      " [1. 0. 0. 0. 0. 0. 1.]\n",
      " [1. 1. 1. 1. 1. 1. 1.]]\n"
     ]
    }
   ],
   "source": [
    "def matrix_func(a, b):\n",
    "    arr = np.ones((a, b))\n",
    "    arr[1:-1, 1:-1] = 0\n",
    "    print(arr)\n",
    "\n",
    "a, b = map(int, input().split())\n",
    "matrix_func(a, b)"
   ]
  },
  {
   "cell_type": "markdown",
   "id": "425c8948-2c77-4129-ab38-3ecc901ce810",
   "metadata": {},
   "source": [
    "### 4. Create a vector of size 10 with values ranging from 0 to 1, both excluded."
   ]
  },
  {
   "cell_type": "code",
   "execution_count": 6,
   "id": "0fd807da-042e-422b-9a23-e30eee2c0f0e",
   "metadata": {},
   "outputs": [
    {
     "name": "stdout",
     "output_type": "stream",
     "text": [
      "[0.09090909 0.18181818 0.27272727 0.36363636 0.45454545 0.54545455\n",
      " 0.63636364 0.72727273 0.81818182 0.90909091]\n"
     ]
    }
   ],
   "source": [
    "arr = np.linspace(0, 1, 12)[1:-1]\n",
    "print(arr)"
   ]
  },
  {
   "cell_type": "markdown",
   "id": "77fb8685-ced8-4c3a-a26e-dea12e444735",
   "metadata": {},
   "source": [
    "### 5. Create a 5x5 matrix with row values ranging from 0 to 4."
   ]
  },
  {
   "cell_type": "markdown",
   "id": "59204764-a22e-40e5-840c-b9613cbbde60",
   "metadata": {},
   "source": [
    "> Method # 1"
   ]
  },
  {
   "cell_type": "code",
   "execution_count": 7,
   "id": "00b965f5-8a41-4426-b227-b4eabce54a3c",
   "metadata": {},
   "outputs": [
    {
     "name": "stdout",
     "output_type": "stream",
     "text": [
      "[[0 1 2 3 4]\n",
      " [0 1 2 3 4]\n",
      " [0 1 2 3 4]\n",
      " [0 1 2 3 4]\n",
      " [0 1 2 3 4]]\n"
     ]
    }
   ],
   "source": [
    "arr = np.tile(np.arange(0, 5), (5,1))\n",
    "print(arr)"
   ]
  },
  {
   "cell_type": "markdown",
   "id": "f8f1dc0d-3af9-4ce9-8ed4-9d292ebc828d",
   "metadata": {},
   "source": [
    "> Method # 2"
   ]
  },
  {
   "cell_type": "code",
   "execution_count": 8,
   "id": "30f1b19b-eee6-48b9-a4a4-2df96cd54fab",
   "metadata": {},
   "outputs": [
    {
     "name": "stdout",
     "output_type": "stream",
     "text": [
      "[[0 1 2 3 4]\n",
      " [0 1 2 3 4]\n",
      " [0 1 2 3 4]\n",
      " [0 1 2 3 4]\n",
      " [0 1 2 3 4]]\n"
     ]
    }
   ],
   "source": [
    "arr = np.vstack([np.arange(0, 5) for _ in range(5)])\n",
    "print(arr)"
   ]
  },
  {
   "cell_type": "markdown",
   "id": "578abae3-68b5-44c6-9892-2baa3a34f9b7",
   "metadata": {},
   "source": [
    "### 6. Consider a random integer (in range 1 to 100) vector with shape `(10,2)` representing coordinates, and coordinates of a point as array is given. Create an array of distance of each point in the random vectros from the given point. Distance array should be interger type.\n",
    "\n",
    "```\n",
    "point = np.array([2,3]) \n",
    "```\n"
   ]
  },
  {
   "cell_type": "markdown",
   "id": "b1690fdd-8b31-49cf-96ab-e6e65e35b07e",
   "metadata": {},
   "source": [
    "> Method # 1:"
   ]
  },
  {
   "cell_type": "code",
   "execution_count": 9,
   "id": "0b0c961f-fc84-4a2f-a36b-ec9363ea2485",
   "metadata": {},
   "outputs": [
    {
     "name": "stdout",
     "output_type": "stream",
     "text": [
      "Distance from [28 40] = 7.42\n",
      "Distance from [29 22] = 6.16\n",
      "Distance from [97 32] = 10.77\n",
      "Distance from [52 87] = 11.22\n",
      "Distance from [55 12] = 7.35\n",
      "Distance from [22 49] = 7.62\n",
      "Distance from [56 83] = 11.22\n",
      "Distance from [15 58] = 7.75\n",
      "Distance from [11 12] = 3.16\n",
      "Distance from [49 88] = 11.14\n"
     ]
    }
   ],
   "source": [
    "def euc_distance(x, y):\n",
    "    point = np.array([2, 3])\n",
    "    return np.round(((x - point[0]**2) + (y - point[1]**2))**0.5, 2)\n",
    "\n",
    "\n",
    "rng = np.random.default_rng()\n",
    "arr = rng.integers(1, 100, 20).reshape(10, 2)\n",
    "for cor in arr:\n",
    "    print(f'Distance from {cor} = {euc_distance(cor[0], cor[1])}')"
   ]
  },
  {
   "cell_type": "markdown",
   "id": "c73f972a-3c29-473d-87e5-0a50cb67386e",
   "metadata": {},
   "source": [
    "> Method # 2:"
   ]
  },
  {
   "cell_type": "code",
   "execution_count": 10,
   "id": "f190ba18-67e7-4bd1-8a9f-4b7f94528d1d",
   "metadata": {},
   "outputs": [
    {
     "name": "stdout",
     "output_type": "stream",
     "text": [
      "Distance from [ 7 98] = 95.13\n",
      "Distance from [81  1] = 79.03\n",
      "Distance from [53 98] = 107.82\n",
      "Distance from [ 4 95] = 92.02\n",
      "Distance from [87 95] = 125.26\n",
      "Distance from [21 25] = 29.07\n",
      "Distance from [34 27] = 40.0\n",
      "Distance from [86 39] = 91.39\n",
      "Distance from [45 68] = 77.94\n",
      "Distance from [17 69] = 67.68\n"
     ]
    }
   ],
   "source": [
    "def euc_distance(arr):\n",
    "    point = np.array([2, 3])\n",
    "    return np.linalg.norm(arr - point, axis=1)\n",
    "\n",
    "arr = np.random.randint(1, 101, size=(10, 2))\n",
    "res = euc_distance(arr)\n",
    "for i in range(10):\n",
    "    print(f'Distance from {arr[i]} = {np.round(res[i], 2)}')"
   ]
  },
  {
   "cell_type": "markdown",
   "id": "85ccdb6f-419f-41da-a892-41260a8609f0",
   "metadata": {},
   "source": [
    "### 7. Consider a (6,7,8) shape array, what is the index (x,y,z) of the 100th element?"
   ]
  },
  {
   "cell_type": "code",
   "execution_count": 11,
   "id": "129a90eb-2280-4f4f-a260-f48268d19215",
   "metadata": {},
   "outputs": [
    {
     "name": "stdout",
     "output_type": "stream",
     "text": [
      "100th element = 99\n"
     ]
    }
   ],
   "source": [
    "arr = np.arange(6*7*8).reshape(6, 7, 8)\n",
    "print(f'100th element = {arr[1, 5, 3]}') # or arr[1, -2, 3]"
   ]
  },
  {
   "cell_type": "markdown",
   "id": "2ecb9927-23d7-4800-ab3e-eb201c90ffe2",
   "metadata": {},
   "source": [
    "### 8. You are given a space separated list of numbers. Your task is to print a reversed NumPy array with the element type float.\n",
    "**Input Format:**\n",
    "\n",
    "A single line of input containing space separated numbers.\n",
    "\n",
    "**Output Format:**\n",
    "\n",
    "Print the reverse NumPy array with type float.\n",
    "\n",
    "**Example 1:**\n",
    "\n",
    "Input:\n",
    "\n",
    "```bash\n",
    "1 2 3 4 -8 -10\n",
    "```\n",
    "\n",
    "Output:\n",
    "\n",
    "```bash\n",
    "[-10.  -8.   4.   3.   2.   1.]\n",
    "```\n"
   ]
  },
  {
   "cell_type": "code",
   "execution_count": 12,
   "id": "482d565f-518b-473d-9d9a-6a775d25cf12",
   "metadata": {},
   "outputs": [
    {
     "name": "stdin",
     "output_type": "stream",
     "text": [
      " 54 -9 0 12 33 -91\n"
     ]
    },
    {
     "name": "stdout",
     "output_type": "stream",
     "text": [
      "INput: [ 54  -9   0  12  33 -91]\n",
      "Output: [-91.  33.  12.   0.  -9.  54.]\n"
     ]
    }
   ],
   "source": [
    "inp = list(map(int, input().split()))\n",
    "arr = np.array(inp)\n",
    "rev = arr[::-1].astype(float)\n",
    "print(f'INput: {arr}\\nOutput: {rev}')"
   ]
  },
  {
   "cell_type": "markdown",
   "id": "59db2ec3-eff3-4a05-8fc3-65563997bee0",
   "metadata": {},
   "source": [
    "### 10. Count the number of elements of a numpy array.\n",
    "**Example 1:**\n",
    "\n",
    "Input:\n",
    "```bash\n",
    "np.array([])\n",
    "```\n",
    "\n",
    "Output:\n",
    "```bash\n",
    "elements_count :  0\n",
    "```\n",
    "\n",
    "**Example 2:**\n",
    "\n",
    "Input:\n",
    "```bash\n",
    "np.array([1, 2])\n",
    "```\n",
    "\n",
    "Output:\n",
    "```bash\n",
    "elements_count :  2\n",
    "```"
   ]
  },
  {
   "cell_type": "code",
   "execution_count": 13,
   "id": "4c8aeb20-c3f1-4cf4-b17f-2003a9ee824b",
   "metadata": {},
   "outputs": [
    {
     "name": "stdin",
     "output_type": "stream",
     "text": [
      " 9 28 22 2 1\n"
     ]
    },
    {
     "name": "stdout",
     "output_type": "stream",
     "text": [
      "Number of elements = 5\n"
     ]
    }
   ],
   "source": [
    "inp = list(map(int, input().split()))\n",
    "arr = np.array(inp)\n",
    "print(f'Number of elements = {arr.size}')"
   ]
  },
  {
   "cell_type": "markdown",
   "id": "19afb254-9405-4c01-9658-d992f08cfb93",
   "metadata": {},
   "source": [
    "### 10. Softmax function\n",
    "\n",
    "Create a Python function to calculate the Softmax of the given numpy 1D array. The function only accepts the numpy 1D array, otherwise raise error.\n",
    "\n",
    "$$\\Large \\sigma(\\vec z)_i = \\frac{e^{z_i}}{\\sum_{j=i}^{K}{e^{z_j}}}$$\n",
    "\n",
    "https://en.wikipedia.org/wiki/Softmax_function\n",
    "\n",
    "**Example 1:**\n",
    "\n",
    "Input:\n",
    "```bash\n",
    "[86.03331084 37.7285648  48.64908087 87.16563062 38.40852563 37.20006318]\n",
    "```\n",
    "\n",
    "Output:\n",
    "```bash\n",
    "[2.43733249e-01, 2.56112115e-22, 1.41628284e-17, 7.56266751e-01, \n",
    "       5.05514197e-22, 1.50974911e-22]\n",
    "```\n",
    "\n",
    "**Example 2:**\n",
    "\n",
    "Input:\n",
    "```bash\n",
    "[33.17344305 45.61961654 82.05405781 80.9647098  68.82830233 91.52064278]\n",
    "```\n",
    "\n",
    "Output:\n",
    "```bash\n",
    "[4.57181035e-26, 1.16249923e-20, 7.73872596e-05, 2.60358426e-05,\n",
    "       1.39571531e-10, 9.99896577e-01]\n",
    "```"
   ]
  },
  {
   "cell_type": "code",
   "execution_count": 14,
   "id": "2460085f-5bfc-49ae-829a-7dfbce1a1237",
   "metadata": {},
   "outputs": [],
   "source": [
    "def softmax(arr):\n",
    "    if arr.size == 0:\n",
    "        raise Exception(\"Array is empty\")\n",
    "    sigma = np.sum(np.exp(arr))\n",
    "    for index, el in enumerate(arr):\n",
    "        arr[index] = np.exp(el) / sigma\n",
    "    return arr"
   ]
  },
  {
   "cell_type": "code",
   "execution_count": 15,
   "id": "cbf393a9-dee2-45ec-9dea-8960903d64b0",
   "metadata": {},
   "outputs": [
    {
     "name": "stdin",
     "output_type": "stream",
     "text": [
      " 33.17344305 45.61961654 82.05405781 80.9647098  68.82830233 91.52064278\n"
     ]
    },
    {
     "name": "stdout",
     "output_type": "stream",
     "text": [
      "Result = [4.57181033e-26 1.16249922e-20 7.73872594e-05 2.60358426e-05\n",
      " 1.39571531e-10 9.99896577e-01]\n"
     ]
    }
   ],
   "source": [
    "inp = list(map(float, input().split()))\n",
    "arr = np.array(inp)\n",
    "try:    \n",
    "    arr = softmax(arr)\n",
    "    print(f'Result = {arr}')\n",
    "except Exception as e: \n",
    "    print(e)"
   ]
  },
  {
   "cell_type": "markdown",
   "id": "49c77a17-aa13-45c0-9e32-d81c25c48f64",
   "metadata": {},
   "source": [
    "### 11. Write a python function that accepts infinite number of numpy arrays and do the vertical stack to them. Then return that new array as result. The function only accepts the numpy array, otherwise raise error.\n",
    "\n",
    "**Example 1:**\n",
    "\n",
    "Input:\n",
    "```bash\n",
    "a= [[0 1 2 3 4]\n",
    " [5 6 7 8 9]]\n",
    "\n",
    "b= [[1 1 1 1 1]\n",
    " [1 1 1 1 1]]\n",
    "```\n",
    "\n",
    "Output:\n",
    "\n",
    "```bash\n",
    "[[0 1 2 3 4]\n",
    " [5 6 7 8 9]\n",
    " [1 1 1 1 1]\n",
    " [1 1 1 1 1]]\n",
    "```\n",
    "\n",
    "**Example 2:**\n",
    "\n",
    "Input:\n",
    "```bash\n",
    "a= [[0 1 2 3 4]\n",
    " [5 6 7 8 9]]\n",
    "\n",
    "b= [[1 1 1 1 1]\n",
    " [1 1 1 1 1]]\n",
    "\n",
    "c= [[0.10117373 0.1677244  0.73764059 0.83166097 0.48985695]\n",
    " [0.44581567 0.13502419 0.55692335 0.16479622 0.61193593]] \n",
    "```\n",
    "\n",
    "Output:\n",
    "```bash\n",
    "[[0.         1.         2.         3.         4.        ]\n",
    " [5.         6.         7.         8.         9.        ]\n",
    " [1.         1.         1.         1.         1.        ]\n",
    " [1.         1.         1.         1.         1.        ]\n",
    " [0.10117373 0.1677244  0.73764059 0.83166097 0.48985695]\n",
    " [0.44581567 0.13502419 0.55692335 0.16479622 0.61193593]]\n",
    "```"
   ]
  },
  {
   "cell_type": "code",
   "execution_count": 25,
   "id": "a330a480-8ed4-4e59-b7d0-7873f0141647",
   "metadata": {},
   "outputs": [],
   "source": [
    "def stack_func(*args):\n",
    "    if all(isinstance(arg, np.ndarray) for arg in args):\n",
    "        res = np.vstack(args)\n",
    "        print(res)\n",
    "    else:\n",
    "        raise Exception(\"Wrong type\")"
   ]
  },
  {
   "cell_type": "code",
   "execution_count": 28,
   "id": "31131755-fe69-4962-a4ba-f0366b1357ee",
   "metadata": {},
   "outputs": [
    {
     "name": "stdout",
     "output_type": "stream",
     "text": [
      "[[0.         1.         2.         3.         4.        ]\n",
      " [5.         6.         7.         8.         9.        ]\n",
      " [1.         1.         1.         1.         1.        ]\n",
      " [1.         1.         1.         1.         1.        ]\n",
      " [0.76920031 0.70267404 0.74680348 0.78858109 0.61797074]\n",
      " [0.1913889  0.28837937 0.71932731 0.16062536 0.356567  ]]\n"
     ]
    }
   ],
   "source": [
    "try:\n",
    "    stack_func(np.array([i for i in range(10)]).reshape(2, 5), np.ones((2, 5)), np.random.random((2, 5)))\n",
    "except Exception as e:\n",
    "    print(e)"
   ]
  },
  {
   "cell_type": "markdown",
   "id": "0a0fc61b-b25f-4db5-8ec8-303592f8445a",
   "metadata": {},
   "source": [
    "### 12. Create a python function named **date_array** that accepts two dates as string format and returns a numpy array of dates between those 2 dates. The function only accept 2 strings, otherwise raise error. The date format should be like this only: `2022-12-6`. The end date should be included and for simplicity, choose dates from a same year.\n",
    "\n",
    "**Example 1:**\n",
    "\n",
    "Input:\n",
    "```bash\n",
    "date_array(start = '2020-09-15', end = '2020-09-25')\n",
    "```\n",
    "\n",
    "Output:\n",
    "```bash\n",
    "['2020-09-15', '2020-09-16', '2020-09-17', '2020-09-18',\n",
    " '2020-09-19', '2020-09-20', '2020-09-21', '2020-09-22',\n",
    " '2020-09-23', '2020-09-24', '2020-09-25']\n",
    "```\n",
    "\n",
    "**Example 2:**\n",
    "\n",
    "Input:\n",
    "```bash\n",
    "date_array(start = '2022-12-01', end = '2022-12-06')\n",
    "```\n",
    "\n",
    "Output:\n",
    "```bash\n",
    "['2022-12-01', '2022-12-02', '2022-12-03', '2022-12-04', '2022-12-05', '2022-12-06']\n",
    "```\n",
    "\n",
    "**Example 3:**\n",
    "\n",
    "Input:\n",
    "```bash\n",
    "date_array(start = '2020-11-25', end = '2020-11-30')\n",
    "```\n",
    "\n",
    "Output:\n",
    "```bash\n",
    "['2020-11-25', '2020-11-26', '2020-11-27', '2020-11-28',\n",
    " '2020-11-29', '2020-11-30']\n",
    "```"
   ]
  },
  {
   "cell_type": "code",
   "execution_count": 37,
   "id": "8cccfae0-c4f3-43a7-9471-032c4b1bde6b",
   "metadata": {},
   "outputs": [],
   "source": [
    "def find_date(date_1, date_2):\n",
    "    if not isinstance(date_1, str) or not isinstance(date_2, str):\n",
    "        raise Exception(\"Wrong type\")\n",
    "    \n",
    "    date_format = \"%Y-%m-%d\"\n",
    "\n",
    "    try:\n",
    "        start = np.datetime64(date_1, 'D')\n",
    "        end = np.datetime64(date_2, 'D')\n",
    "    except ValueError:\n",
    "        raise Exception(\"Incorrect format\")\n",
    "\n",
    "    if start.astype('datetime64[Y]') != end.astype('datetime64[Y]'):\n",
    "        raise Exception(\"Years should be same\")\n",
    "\n",
    "    total_days = (end - start).astype(int) + 1\n",
    "    arr = np.arange(start, start + np.timedelta64(total_days, 'D'))\n",
    "\n",
    "    return arr"
   ]
  },
  {
   "cell_type": "code",
   "execution_count": 39,
   "id": "98224512-e56f-441a-8242-57c85a3d2594",
   "metadata": {},
   "outputs": [
    {
     "name": "stdout",
     "output_type": "stream",
     "text": [
      "['2020-09-15' '2020-09-16' '2020-09-17' '2020-09-18' '2020-09-19'\n",
      " '2020-09-20' '2020-09-21' '2020-09-22' '2020-09-23' '2020-09-24'\n",
      " '2020-09-25']\n"
     ]
    }
   ],
   "source": [
    "try:\n",
    "    date_arr = find_date('2020-09-15', '2020-09-25')\n",
    "    print(date_arr)\n",
    "except Exception as e:\n",
    "    print(e)"
   ]
  },
  {
   "cell_type": "markdown",
   "id": "a0570273-18ae-461e-afb4-84fdc1e02f5c",
   "metadata": {},
   "source": [
    "### 13. Subtract the mean of each row from a matrix."
   ]
  },
  {
   "cell_type": "code",
   "execution_count": 72,
   "id": "d07f3d3d-da66-454d-98e9-4070e3decce2",
   "metadata": {},
   "outputs": [
    {
     "name": "stdout",
     "output_type": "stream",
     "text": [
      "~ Original:\n",
      "[[0 1 2 3 4]\n",
      " [5 6 7 8 9]]\n",
      "~ Mean of each row:\n",
      "[[2.]\n",
      " [7.]]\n",
      "~ After subtraction:\n",
      "[[-2. -1.  0.  1.  2.]\n",
      " [-2. -1.  0.  1.  2.]]\n"
     ]
    }
   ],
   "source": [
    "arr = np.arange(10).reshape(2,5)\n",
    "m_arr = np.mean(arr, axis=1, keepdims=True)\n",
    "res = arr - m_arr\n",
    "print(f'~ Original:\\n{arr}\\n~ Mean of each row:\\n{m_arr}\\n~ After subtraction:\\n{res}')"
   ]
  },
  {
   "cell_type": "markdown",
   "id": "cbbc5948-6039-48e7-879a-4590abde2c21",
   "metadata": {},
   "source": [
    "### 14. Swap column-1 of array with column-2 in the array."
   ]
  },
  {
   "cell_type": "code",
   "execution_count": 78,
   "id": "10224b1d-70d4-4507-8d22-df75aee6a82a",
   "metadata": {},
   "outputs": [
    {
     "name": "stdout",
     "output_type": "stream",
     "text": [
      "~ Before:\n",
      "[[ 0.          2.22222222]\n",
      " [ 4.44444444  6.66666667]\n",
      " [ 8.88888889 11.11111111]\n",
      " [13.33333333 15.55555556]\n",
      " [17.77777778 20.        ]]\n",
      "~ After:\n",
      "[[ 2.22222222  0.        ]\n",
      " [ 6.66666667  4.44444444]\n",
      " [11.11111111  8.88888889]\n",
      " [15.55555556 13.33333333]\n",
      " [20.         17.77777778]]\n"
     ]
    }
   ],
   "source": [
    "arr = np.linspace(0, 20, 10).reshape(5, 2)\n",
    "print(f'~ Before:\\n{arr}')\n",
    "arr[:, [1, 0]] = arr[:, [0, 1]]\n",
    "print(f'~ After:\\n{arr}')"
   ]
  },
  {
   "cell_type": "markdown",
   "id": "2a5a7080-2314-4b07-a183-127109d14fad",
   "metadata": {},
   "source": [
    "### 15. Replace odd elements in arrays with -1."
   ]
  },
  {
   "cell_type": "code",
   "execution_count": 90,
   "id": "a2498974-1c5b-45ad-97c7-ce51a3bcd181",
   "metadata": {},
   "outputs": [
    {
     "name": "stdout",
     "output_type": "stream",
     "text": [
      "~ Before:\n",
      "[[ 0  1  2  3]\n",
      " [ 4  5  6  7]\n",
      " [ 8  9 10 11]\n",
      " [12 13 14 15]\n",
      " [16 17 18 19]]\n",
      "~ After:\n",
      "[[ 0 -1  2 -1]\n",
      " [ 4 -1  6 -1]\n",
      " [ 8 -1 10 -1]\n",
      " [12 -1 14 -1]\n",
      " [16 -1 18 -1]]\n"
     ]
    }
   ],
   "source": [
    "arr = np.arange(0, 20).reshape(5, 4)\n",
    "print(f'~ Before:\\n{arr}')\n",
    "odd_el = arr % 2 != 0\n",
    "arr[odd_el] = -1\n",
    "print(f'~ After:\\n{arr}')"
   ]
  },
  {
   "cell_type": "markdown",
   "id": "da1c0b55-5363-457c-ae15-9cfea8d8ed58",
   "metadata": {},
   "source": [
    "### 16. Given two arrays of same shape make an array of max out of two arrays. (Numpy way)\n",
    "```\n",
    "a=np.array([6,3,1,5,8])\n",
    "b=np.array([3,2,1,7,2])\n",
    "\n",
    "Result-> [6 3 1 7 8]\n",
    "``` "
   ]
  },
  {
   "cell_type": "code",
   "execution_count": 93,
   "id": "57e168e7-ddc7-4559-bc91-33137084e9e9",
   "metadata": {},
   "outputs": [
    {
     "name": "stdout",
     "output_type": "stream",
     "text": [
      "~ Array 1:\n",
      "[6 3 1 5 8]\n",
      "~ Array 2:\n",
      "[3 2 1 7 2]\n",
      "~ Max array:\n",
      "[6 3 1 7 8]\n"
     ]
    }
   ],
   "source": [
    "def max_arr(arr_1, arr_2):\n",
    "    max_arr = np.maximum(arr_1, arr_2)\n",
    "    print(f'~ Array 1:\\n{arr_1}\\n~ Array 2:\\n{arr_2}\\n~ Max array:\\n{max_arr}')\n",
    "\n",
    "max_arr(np.array([6,3,1,5,8]), np.array([3,2,1,7,2]))"
   ]
  },
  {
   "cell_type": "markdown",
   "id": "b125d06f-2c12-4bde-915e-13c5547ec6c6",
   "metadata": {},
   "source": [
    "### 17. Answer below asked questions on given array:\n",
    "1. Fetch Every alternate column of the array\n",
    "2. Normalise the given array\n",
    "\n",
    "https://en.wikipedia.org/wiki/Normalization_(statistics)\n",
    "\n",
    "There are different form of normalisation for this question use below formula.\n",
    "\n",
    "$$\\large X_{normalized} = \\frac{X - X_{min}}{X_{max} - X_{min}}$$\n",
    "\n",
    "```python\n",
    "arr1=np.random.randint(low=1, high=10000, size=40).reshape(8,5)\n",
    "```\n"
   ]
  },
  {
   "cell_type": "code",
   "execution_count": 94,
   "id": "3f16d063-8b8f-4e17-b5b1-d44ba0825e62",
   "metadata": {},
   "outputs": [
    {
     "name": "stdout",
     "output_type": "stream",
     "text": [
      "[[4977 9810 8448 2117 2551]\n",
      " [3610 2879 5827 1785 2325]\n",
      " [9322 9850 6039 4509  714]\n",
      " [3436 5709 5671 9438 5459]\n",
      " [5082 5312 1196 2932 9783]\n",
      " [8846 7832 5059 5406 4226]\n",
      " [6979 3412 8506 9821 7909]\n",
      " [9591 2883  954 2146 4262]]\n"
     ]
    }
   ],
   "source": [
    "arr1 = np.random.randint(low=1, high=10000, size=40).reshape(8,5)\n",
    "print(arr1)"
   ]
  },
  {
   "cell_type": "markdown",
   "id": "47dd23bd-6922-419e-8db7-d1f7fc0000c6",
   "metadata": {},
   "source": [
    "> Part # 1:"
   ]
  },
  {
   "cell_type": "code",
   "execution_count": 96,
   "id": "c3345568-d1e6-4378-9fb4-bfe0cfefd6ee",
   "metadata": {},
   "outputs": [
    {
     "name": "stdout",
     "output_type": "stream",
     "text": [
      "[[4977 8448 2551]\n",
      " [3610 5827 2325]\n",
      " [9322 6039  714]\n",
      " [3436 5671 5459]\n",
      " [5082 1196 9783]\n",
      " [8846 5059 4226]\n",
      " [6979 8506 7909]\n",
      " [9591  954 4262]]\n"
     ]
    }
   ],
   "source": [
    "print(arr1[:,::2])"
   ]
  },
  {
   "cell_type": "markdown",
   "id": "510db60c-1b88-46d1-876f-009123de4d37",
   "metadata": {},
   "source": [
    "> Part # 2:"
   ]
  },
  {
   "cell_type": "code",
   "execution_count": 104,
   "id": "cbfe4fc6-5a6c-427e-ae7e-ad38bf45dfcd",
   "metadata": {},
   "outputs": [
    {
     "name": "stdout",
     "output_type": "stream",
     "text": [
      "[[0.46661559 0.99562172 0.84654116 0.1535683  0.20107268]\n",
      " [0.31698774 0.23697461 0.55965412 0.11722855 0.17633538]\n",
      " [0.94220665 1.         0.58285902 0.41538967 0.        ]\n",
      " [0.29794221 0.54673818 0.54257881 0.95490368 0.51937391]\n",
      " [0.47810858 0.50328371 0.05275832 0.24277583 0.99266637]\n",
      " [0.89010508 0.77911559 0.47559107 0.51357268 0.38441331]\n",
      " [0.68574869 0.29531524 0.85288967 0.99682574 0.78754378]\n",
      " [0.97165061 0.23741243 0.0262697  0.15674256 0.38835377]]\n"
     ]
    }
   ],
   "source": [
    "def normalize(arr):\n",
    "    x_min = np.min(arr)\n",
    "    x_max = np.max(arr)\n",
    "    \n",
    "    return (arr - x_min) / (x_max - x_min)\n",
    "\n",
    "x_norm = normalize(arr1)\n",
    "print(x_norm)"
   ]
  },
  {
   "cell_type": "markdown",
   "id": "9221860f-309b-4ee4-9288-9cf9bab9976c",
   "metadata": {},
   "source": [
    "### 18. Write a function which will accept 2 arguments.\n",
    "First: A 1D numpy array arr\n",
    "\n",
    "Second: An integer n {Please make sure n<=len(arr)}\n",
    "\n",
    "Output: The output should be the nth largest item out of the array\n",
    "```\n",
    "# Example1 : arr=(12,34,40,7,1,0) and n=3, the output should be 12\n",
    "# Example2 : arr=(12,34,40,7,1,0) and n=1, the output should be 40\n",
    "```"
   ]
  },
  {
   "cell_type": "code",
   "execution_count": 116,
   "id": "cd8d3c16-ddcf-4aad-8f6b-ce1126019b77",
   "metadata": {},
   "outputs": [
    {
     "name": "stdout",
     "output_type": "stream",
     "text": [
      "Array = [82 18 77 57 38 79 47 49 86 38] and n = 6, ouptut = 49\n"
     ]
    }
   ],
   "source": [
    "def n_max(arr, n):\n",
    "    if n > len(arr):\n",
    "        raise Exception(\"n should be less than equal to array length\")\n",
    "    return np.sort(arr)[len(arr) - n]\n",
    "\n",
    "try:\n",
    "    arr = np.random.randint(low=0, high=90, size=10)\n",
    "    n = 6\n",
    "    n_max_el = n_max(arr, n)\n",
    "    print(f'Array = {arr} and n = {n}, ouptut = {n_max_el}')\n",
    "except Exception as e:\n",
    "    print(e)"
   ]
  },
  {
   "cell_type": "markdown",
   "id": "3a70915d-98fc-49fc-8b53-c0583b6b701e",
   "metadata": {},
   "source": [
    "### 19. Create the following pattern without hardcoding. Use only numpy functions and the below input array a.\n",
    "```\n",
    "# Input: a = np.array([1,2,3])\n",
    "# Output: array([1, 1, 1, 2, 2, 2, 3, 3, 3, 1, 2, 3, 1, 2, 3, 1, 2, 3])\n",
    "```"
   ]
  },
  {
   "cell_type": "code",
   "execution_count": 119,
   "id": "6800993c-aeeb-4507-9078-a154576e3734",
   "metadata": {},
   "outputs": [
    {
     "name": "stdout",
     "output_type": "stream",
     "text": [
      "[1 1 1 2 2 2 3 3 3 1 2 3 1 2 3 1 2 3]\n"
     ]
    }
   ],
   "source": [
    "def pattern(arr):\n",
    "    return np.hstack((np.repeat(arr, 3), np.tile(arr, 3)))\n",
    "\n",
    "a = np.array([1,2,3])\n",
    "print(pattern(a))"
   ]
  },
  {
   "cell_type": "markdown",
   "id": "e38e04e2-995c-4f38-b321-e2ecb330674a",
   "metadata": {},
   "source": [
    "### 20. Find the nearest element in the array to a given integer.\n",
    "```\n",
    "Ex:- \n",
    "a=23 and array - [10 17 24 31 38 45 52 59].\n",
    "Nearest element is 24\n",
    "```"
   ]
  },
  {
   "cell_type": "code",
   "execution_count": 10,
   "id": "bb593a8c-24c7-400e-8896-3b18d0fae813",
   "metadata": {},
   "outputs": [
    {
     "name": "stdout",
     "output_type": "stream",
     "text": [
      "[24 35 46  3 49 48 29 22 35 47 46  0 39 41 38 33 27 12 10 36]\n",
      "Nearest element to 23 is 24\n"
     ]
    }
   ],
   "source": [
    "def find_nearest(arr, n):\n",
    "    diff = abs(arr - n)\n",
    "    return arr[np.argmin(diff)]\n",
    "\n",
    "arr = np.random.randint(low=0, high=50, size=20)\n",
    "n = 23\n",
    "res = find_nearest(arr, n)\n",
    "print(f'{arr}\\nNearest element to {n} is {res}')"
   ]
  },
  {
   "cell_type": "markdown",
   "id": "76d4162b-1993-4119-82a6-2c24a9f0349a",
   "metadata": {},
   "source": [
    "### 21. Replace multiples of 3 or 5 as 0 in the given array.\n",
    "```\n",
    "arr=[1 2 3 4 5 6 7 9]\n",
    "\n",
    "result-> [1 2 0 4 0 0 7 0]\n",
    "```"
   ]
  },
  {
   "cell_type": "code",
   "execution_count": 13,
   "id": "b7afeef5-a14d-4495-83bf-faab38a4f454",
   "metadata": {},
   "outputs": [
    {
     "name": "stdout",
     "output_type": "stream",
     "text": [
      "[15 45 22 72 29 53 73 66 66 32 82 22 90 25 44 15 64 80 52 43]\n",
      "[ 0  0 22  0 29 53 73  0  0 32 82 22  0  0 44  0 64  0 52 43]\n"
     ]
    }
   ],
   "source": [
    "arr = np.random.randint(low=10, high=100, size=20)\n",
    "print(arr)\n",
    "arr[(arr % 3 == 0) | (arr % 5 == 0)] = 0\n",
    "print(arr)"
   ]
  },
  {
   "cell_type": "markdown",
   "id": "4f03de8e-d47e-4c6a-a1a2-8a012773226f",
   "metadata": {},
   "source": [
    "### 22. Use Fancy Indexing.\n",
    "1. Double the array elements at  given indexes\n",
    "```\n",
    "arr = np.arrange(10)\n",
    "indexes = [0,3,4,9]\n",
    "```\n",
    "Result -> `[ 0  1  2  6  8  5  6  7  8 18]`\n",
    "\n",
    "2. Using a given array make a different array as in below example\n",
    "```\n",
    "array = [1,2,3]\n",
    "result array -> [1 1 1 2 2 2 3 3 3]\n",
    "```\n",
    "* Internal-repetion should be as length of the array.\n",
    "\n",
    "Hint: \n",
    "```\n",
    "if a is an array\n",
    "a = [2,4]\n",
    "a[[1,1,0,1]] will result in-> [4 4 2 4]\n",
    "```"
   ]
  },
  {
   "cell_type": "markdown",
   "id": "da6e5081-ba26-459a-86f8-0857fd8252f5",
   "metadata": {},
   "source": [
    "> Part # 1:"
   ]
  },
  {
   "cell_type": "code",
   "execution_count": 28,
   "id": "489ecada-eb4a-4143-84ad-9c1ef402f059",
   "metadata": {},
   "outputs": [
    {
     "name": "stdout",
     "output_type": "stream",
     "text": [
      "[0 1 2 3 4 5 6 7 8 9]\n",
      "[ 0  1  2  6  8  5  6  7  8 18]\n"
     ]
    }
   ],
   "source": [
    "arr = np.arange(10)\n",
    "indexes = [0,3,4,9]\n",
    "print(arr)\n",
    "arr[indexes] *= 2\n",
    "print(arr)"
   ]
  },
  {
   "cell_type": "markdown",
   "id": "992fa0f2-94a9-4e66-9d31-0b78d0a2087b",
   "metadata": {},
   "source": [
    "> Part # 2:"
   ]
  },
  {
   "cell_type": "code",
   "execution_count": 42,
   "id": "c0d89d6c-0ca8-4c22-ba98-825265a52a60",
   "metadata": {},
   "outputs": [
    {
     "name": "stdout",
     "output_type": "stream",
     "text": [
      "[13 14  7 16 14]\n",
      "[13 13 13 14 14 14  7  7  7 16 16 16 14 14 14]\n"
     ]
    }
   ],
   "source": [
    "arr = np.random.randint(low=0, high=20, size=5)\n",
    "print(arr)\n",
    "res = np.zeros(len(arr) * 3).astype(int)\n",
    "indexes = np.arange(len(arr)) * 3\n",
    "for i in range(len(arr)):\n",
    "    res[indexes[i]:indexes[i] + 3] = arr[i]\n",
    "print(res)"
   ]
  },
  {
   "cell_type": "markdown",
   "id": "1034499c-f47c-46b7-913b-6f895987e7be",
   "metadata": {},
   "source": [
    "### 23. Your are given an array which is havig some nan value. You job is to fill those nan values with most common element in the array.\n",
    "```\n",
    "arr=np.array([[1,2,np.nan],[4,2,6],[np.nan,np.nan,5]])\n",
    "\n",
    "```"
   ]
  },
  {
   "cell_type": "code",
   "execution_count": 55,
   "id": "1219e145-fdab-4736-8619-8eb2a2ed06d0",
   "metadata": {},
   "outputs": [
    {
     "name": "stdout",
     "output_type": "stream",
     "text": [
      "[[ 1.  2. nan]\n",
      " [ 4.  2.  6.]\n",
      " [nan nan  5.]]\n"
     ]
    }
   ],
   "source": [
    "arr = np.array([[1,2,np.nan],[4,2,6],[np.nan,np.nan,5]])\n",
    "print(arr)"
   ]
  },
  {
   "cell_type": "markdown",
   "id": "8a8574f1-aec8-4473-86c2-809c8ee56975",
   "metadata": {},
   "source": [
    "> Method # 1:"
   ]
  },
  {
   "cell_type": "code",
   "execution_count": 56,
   "id": "e517f919-bcfe-4349-95e7-feb5594a71ff",
   "metadata": {},
   "outputs": [
    {
     "name": "stdout",
     "output_type": "stream",
     "text": [
      "[[1. 2. 2.]\n",
      " [4. 2. 6.]\n",
      " [2. 2. 5.]]\n"
     ]
    }
   ],
   "source": [
    "u, index = np.unique(arr[~np.isnan(arr)], return_counts=True)\n",
    "arr[np.isnan(arr)] = u[np.argmax(index)]\n",
    "print(arr)"
   ]
  },
  {
   "cell_type": "markdown",
   "id": "f523a20e-4c49-4c05-b33f-e3b642192896",
   "metadata": {},
   "source": [
    "> Method # 2:"
   ]
  },
  {
   "cell_type": "code",
   "execution_count": 57,
   "id": "9988f955-1f68-4dad-a9b3-4d3958a1962d",
   "metadata": {},
   "outputs": [
    {
     "name": "stdout",
     "output_type": "stream",
     "text": [
      "[[1. 2. 2.]\n",
      " [4. 2. 6.]\n",
      " [2. 2. 5.]]\n"
     ]
    }
   ],
   "source": [
    "mode = np.bincount(arr[~np.isnan(arr)].astype(int)).argmax()\n",
    "arr[np.isnan(arr)] = mode\n",
    "print(arr)"
   ]
  },
  {
   "cell_type": "markdown",
   "id": "f6b9d24a-52d3-4de5-be72-8061ac8eb9de",
   "metadata": {},
   "source": [
    "### 24. Write a NumPy program \n",
    "\n",
    "- to find the missing data in a given array. Return a boolean matrix.\n",
    "- also try to fill those missing values with 0. For that, you can use `np.nan_to_num(a)`\n",
    "\n",
    "```python\n",
    "np.array([[3, 2, np.nan, 1],\n",
    "          [10, 12, 10, 9],\n",
    "          [5, np.nan, 1, np.nan]])\n",
    "```"
   ]
  },
  {
   "cell_type": "code",
   "execution_count": 63,
   "id": "de1e22f0-5fdc-4a77-887c-0900632def91",
   "metadata": {},
   "outputs": [],
   "source": [
    "def find_missing(arr):\n",
    "    return np.isnan(arr)"
   ]
  },
  {
   "cell_type": "code",
   "execution_count": 70,
   "id": "2c529853-bed5-4e39-aa64-447b5711e4bb",
   "metadata": {},
   "outputs": [
    {
     "name": "stdout",
     "output_type": "stream",
     "text": [
      "~ Before:\n",
      "[[ 3.  2. nan  1.]\n",
      " [10. 12. 10.  9.]\n",
      " [ 5. nan  1. nan]]\n",
      "~ Boolean marix:\n",
      "[[False False  True False]\n",
      " [False False False False]\n",
      " [False  True False  True]]\n",
      "~ After:\n",
      "[[ 3.  2.  0.  1.]\n",
      " [10. 12. 10.  9.]\n",
      " [ 5.  0.  1.  0.]]\n"
     ]
    }
   ],
   "source": [
    "arr = np.array([[3, 2, np.nan, 1],\n",
    "                [10, 12, 10, 9],\n",
    "                [5, np.nan, 1, np.nan]])\n",
    "print(f'~ Before:\\n{arr}')\n",
    "bool_matrix = find_missing(arr)\n",
    "print(f'~ Boolean marix:\\n{bool_matrix}')\n",
    "np.nan_to_num(arr, 0)\n",
    "print(f'~ After:\\n{arr}')"
   ]
  },
  {
   "cell_type": "markdown",
   "id": "4122e10d-f833-4b9b-a7bf-e02145507ead",
   "metadata": {},
   "source": [
    "### 25. Given two arrays, X and Y, construct the Cauchy matrix C.\n",
    "`Cij =1/(xi - yj)`\n",
    "\n",
    "http://en.wikipedia.org/wiki/Cauchy_matrix\n",
    "```\n",
    "x = numpy.array([1,2,3,4]).reshape((-1, 1)\n",
    "y = numpy.array([5,6,7])\n",
    "```"
   ]
  },
  {
   "cell_type": "code",
   "execution_count": 76,
   "id": "80167dbd-38aa-4aea-bec6-9da901392856",
   "metadata": {},
   "outputs": [],
   "source": [
    "def cauchy_matrix(x, y):\n",
    "    return 1 / (x - y)"
   ]
  },
  {
   "cell_type": "code",
   "execution_count": 77,
   "id": "56d1d4ce-7388-49d6-9111-cac901428d6e",
   "metadata": {},
   "outputs": [
    {
     "name": "stdout",
     "output_type": "stream",
     "text": [
      "[[-0.25       -0.2        -0.16666667]\n",
      " [-0.33333333 -0.25       -0.2       ]\n",
      " [-0.5        -0.33333333 -0.25      ]\n",
      " [-1.         -0.5        -0.33333333]]\n"
     ]
    }
   ],
   "source": [
    "x = np.array([1,2,3,4]).reshape(-1, 1)\n",
    "y = np.array([5,6,7])\n",
    "c = cauchy_matrix(x, y)\n",
    "print(c)"
   ]
  },
  {
   "cell_type": "markdown",
   "id": "7fd96c47-1b36-461f-8a2a-31d929a5b95f",
   "metadata": {},
   "source": [
    "### 26. Plot this below equation.\n",
    "\n",
    "$$\\large y = \\frac{e^x - e^{-x}}{e^x + e^{-x}}$$\n",
    "\n",
    "**Note: This equation is called tanh activation function. In deep learning, many times this function is used. If you find some difference between the sigmoid function and this tanh function, note that to your notebook.**"
   ]
  },
  {
   "cell_type": "code",
   "execution_count": 78,
   "id": "06ab8424-697f-4eab-8984-f9f7092508ee",
   "metadata": {},
   "outputs": [],
   "source": [
    "def tanh_func(x):\n",
    "    return (np.exp(x) - np.exp(-x)) / (np.exp(x) + np.exp(-x)) "
   ]
  },
  {
   "cell_type": "code",
   "execution_count": 84,
   "id": "4d00fea2-99cd-40db-9883-a1503f54b079",
   "metadata": {},
   "outputs": [
    {
     "data": {
      "image/png": "[encoded data removed]",
      "text/plain": [
       "<Figure size 640x480 with 1 Axes>"
      ]
     },
     "metadata": {},
     "output_type": "display_data"
    }
   ],
   "source": [
    "x = np.linspace(-10, 10, 20)\n",
    "y = tanh_func(x)\n",
    "\n",
    "plt.plot(x, y)\n",
    "plt.show()"
   ]
  },
  {
   "cell_type": "markdown",
   "id": "d39e962c-0736-453c-805c-fdff4deb1d5d",
   "metadata": {},
   "source": [
    "### 27. Plot the below equation.\n",
    "\n",
    "$$\\large y = \\sqrt{36 - (x - 4)^2} + 2$$\n",
    "\n",
    "The range of x should be between -2 to 10. $x ∈ [-2, 10]$\n",
    "\n"
   ]
  },
  {
   "cell_type": "code",
   "execution_count": 85,
   "id": "8df715fc-3913-428f-bfda-9a58aa07f159",
   "metadata": {},
   "outputs": [],
   "source": [
    "def my_func(x):\n",
    "    return (36 - (x - 4)**2 + 2)**0.5"
   ]
  },
  {
   "cell_type": "code",
   "execution_count": 86,
   "id": "ab64e72d-8b53-4766-8c27-433ceff66e8c",
   "metadata": {},
   "outputs": [
    {
     "data": {
      "image/png": "[encoded data removed]",
      "text/plain": [
       "<Figure size 640x480 with 1 Axes>"
      ]
     },
     "metadata": {},
     "output_type": "display_data"
    }
   ],
   "source": [
    "x = np.linspace(-2, 10, 20)\n",
    "y = my_func(x)\n",
    "\n",
    "plt.plot(x, y)\n",
    "plt.show()"
   ]
  },
  {
   "cell_type": "markdown",
   "id": "7e9c5dca-591f-4710-b7fe-836703626a00",
   "metadata": {},
   "source": [
    "### 28. Write a program implement Boradcasting Rule to check if two array can be added or not.\n",
    "Given tuples of shapes.\n",
    "```\n",
    "shape of a- (3,2,2)\n",
    "shape of b- (2,2)\n",
    "\n",
    "check_broadcast(a, b) -> return Boolean (True if can broadcasted, False other wise.)\n",
    "```"
   ]
  },
  {
   "cell_type": "code",
   "execution_count": 106,
   "id": "e53f03ab-98d0-4bd4-a551-1c839d81db37",
   "metadata": {},
   "outputs": [],
   "source": [
    "def check_broadcast(a, b):\n",
    "    a = np.array(a)[::-1]\n",
    "    b = np.array(b)[::-1]\n",
    "\n",
    "    rng = a.size if a.size < b.size else b.size\n",
    "\n",
    "    for i in range(rng):\n",
    "        if a[i] != 1 and a[i] != b[i]:\n",
    "            return False\n",
    "\n",
    "    return True"
   ]
  },
  {
   "cell_type": "code",
   "execution_count": 107,
   "id": "1779d4c9-0fb3-4047-a2b2-cb9d22f802d0",
   "metadata": {},
   "outputs": [
    {
     "name": "stdout",
     "output_type": "stream",
     "text": [
      "Can broadcast: True\n"
     ]
    }
   ],
   "source": [
    "a = (3, 2, 2)\n",
    "b = (2, 2)\n",
    "\n",
    "print(f'Can broadcast: {check_broadcast(a, b)}')"
   ]
  },
  {
   "cell_type": "markdown",
   "id": "e32e96d7-2176-48e9-8086-2527c014882a",
   "metadata": {},
   "source": [
    "### 29. Create a random 3x4 matrix with value between 0-100. And perform below tasks\n",
    "\n",
    "    i. Sort this matrix.\n",
    "    ii. Sort this matrix based on values in 2nd column.\n",
    "    iii. Sort this matrix based on max value in each row.\n",
    "    iv. Sort based on elements value.\n"
   ]
  },
  {
   "cell_type": "code",
   "execution_count": 24,
   "id": "c23b3a27-e599-4e19-8e63-060bfa538c06",
   "metadata": {},
   "outputs": [
    {
     "name": "stdout",
     "output_type": "stream",
     "text": [
      "[[38 28 54 81]\n",
      " [ 9 48 13 85]\n",
      " [ 0 27 20 54]]\n"
     ]
    }
   ],
   "source": [
    "arr = np.random.randint(low=0, high=100, size=12).reshape(3, 4)\n",
    "print(arr)"
   ]
  },
  {
   "cell_type": "markdown",
   "id": "6f542122-53dc-4a4a-8973-637fb612475b",
   "metadata": {},
   "source": [
    "> Part # 1:"
   ]
  },
  {
   "cell_type": "code",
   "execution_count": 25,
   "id": "2255c2c3-f7c9-43d5-9542-61e6aa1f50b3",
   "metadata": {},
   "outputs": [
    {
     "name": "stdout",
     "output_type": "stream",
     "text": [
      "[[28 38 54 81]\n",
      " [ 9 13 48 85]\n",
      " [ 0 20 27 54]]\n"
     ]
    }
   ],
   "source": [
    "sorted_arr = np.sort(arr)\n",
    "print(sorted_arr)"
   ]
  },
  {
   "cell_type": "markdown",
   "id": "0f4cbdd8-f282-491c-84d0-dafb20ed39e0",
   "metadata": {},
   "source": [
    "> Part # 2:"
   ]
  },
  {
   "cell_type": "code",
   "execution_count": 26,
   "id": "cf8430c3-2786-46b1-941a-05413315bc02",
   "metadata": {},
   "outputs": [
    {
     "name": "stdout",
     "output_type": "stream",
     "text": [
      "[[ 0 27 20 54]\n",
      " [38 28 54 81]\n",
      " [ 9 48 13 85]]\n"
     ]
    }
   ],
   "source": [
    "sorted_arr = arr[arr[:,1].argsort()]\n",
    "print(sorted_arr)"
   ]
  },
  {
   "cell_type": "markdown",
   "id": "1031ba82-16ad-43cf-8049-ffcd74fc1033",
   "metadata": {},
   "source": [
    "> Part # 3:"
   ]
  },
  {
   "cell_type": "code",
   "execution_count": 27,
   "id": "e855a1bb-59ab-4532-aba8-05f49e49ec64",
   "metadata": {},
   "outputs": [
    {
     "name": "stdout",
     "output_type": "stream",
     "text": [
      "[[ 0 27 20 54]\n",
      " [38 28 54 81]\n",
      " [ 9 48 13 85]]\n"
     ]
    }
   ],
   "source": [
    "sorted_arr = arr[arr.max(axis=1).argsort(),:]\n",
    "print(sorted_arr)"
   ]
  },
  {
   "cell_type": "markdown",
   "id": "b26d7399-9d0e-4986-bcae-f30b97933591",
   "metadata": {},
   "source": [
    "> Part # 4:"
   ]
  },
  {
   "cell_type": "code",
   "execution_count": 32,
   "id": "240a3ac2-8e4b-42a7-aedd-4b055bd2c216",
   "metadata": {},
   "outputs": [
    {
     "name": "stdout",
     "output_type": "stream",
     "text": [
      "[[ 0  9 13 20]\n",
      " [27 28 38 48]\n",
      " [54 54 81 85]]\n"
     ]
    }
   ],
   "source": [
    "sorted_arr = np.sort(arr.flatten()).reshape(arr.shape[0], arr.shape[1])\n",
    "print(sorted_arr)"
   ]
  },
  {
   "cell_type": "markdown",
   "id": "22edeb7b-ec95-46cc-b643-6cd072120942",
   "metadata": {},
   "source": [
    "### 30. There is an array of marks of 5 students in 4 subjects. Further you are asked to perform below task.\n",
    "    i. Add marks every student of an extra subject in the same array.\n",
    "    ii. Add two new students marks in respective 5 subjects.(one subject added in above task)\n",
    "    iii. Add extra column with sum of all subjects(5-subjects) marks\n",
    "    iv. Sort the array(non-ascending order) on total marks column--one added in above task. Show top 2 rows.\n",
    "\n",
    "Note: Change dimension of arrays during concatenation or appending if required."
   ]
  },
  {
   "cell_type": "code",
   "execution_count": 26,
   "id": "39ec5874-ff8b-4ac1-a96c-366e68b95404",
   "metadata": {},
   "outputs": [],
   "source": [
    "# Given Array-\n",
    "marks = [[13, 10,  9, 33],\n",
    "       [63, 46, 90, 42],\n",
    "       [39, 76, 13, 29],\n",
    "       [82,  9, 29, 78],\n",
    "       [67, 61, 59, 36]]\n",
    "\n",
    "extra_subject = [41, 87, 72, 36, 92]\n",
    "#Two extra students record-\n",
    "rec1 = [77, 83, 98, 95, 89]\n",
    "rec2 = [92, 71, 52, 61, 53]"
   ]
  },
  {
   "cell_type": "code",
   "execution_count": 27,
   "id": "053471a2-026e-4bde-9de0-1dbce265857a",
   "metadata": {},
   "outputs": [
    {
     "name": "stdout",
     "output_type": "stream",
     "text": [
      "[[13 10  9 33]\n",
      " [63 46 90 42]\n",
      " [39 76 13 29]\n",
      " [82  9 29 78]\n",
      " [67 61 59 36]]\n"
     ]
    }
   ],
   "source": [
    "marks = np.array(marks)\n",
    "print(marks)"
   ]
  },
  {
   "cell_type": "markdown",
   "id": "6600e7ed-beac-48f3-8803-4680caff1194",
   "metadata": {},
   "source": [
    "> Part # 1:"
   ]
  },
  {
   "cell_type": "code",
   "execution_count": 28,
   "id": "864c0553-68f1-4e8f-9448-3800d3e77c40",
   "metadata": {},
   "outputs": [
    {
     "name": "stdout",
     "output_type": "stream",
     "text": [
      "[[13 10  9 33 41]\n",
      " [63 46 90 42 87]\n",
      " [39 76 13 29 72]\n",
      " [82  9 29 78 36]\n",
      " [67 61 59 36 92]]\n"
     ]
    }
   ],
   "source": [
    "marks = np.concatenate((marks, np.array(extra_subject).reshape(5, 1)), axis=1)\n",
    "print(marks)"
   ]
  },
  {
   "cell_type": "markdown",
   "id": "40108937-f7e8-41ae-9e17-2e6cbdde0382",
   "metadata": {},
   "source": [
    "> Part # 2:"
   ]
  },
  {
   "cell_type": "code",
   "execution_count": 29,
   "id": "0974e588-cf09-4307-b5c7-19b4f646cff0",
   "metadata": {},
   "outputs": [
    {
     "name": "stdout",
     "output_type": "stream",
     "text": [
      "[[13 10  9 33 41]\n",
      " [63 46 90 42 87]\n",
      " [39 76 13 29 72]\n",
      " [82  9 29 78 36]\n",
      " [67 61 59 36 92]\n",
      " [77 83 98 95 89]\n",
      " [92 71 52 61 53]]\n"
     ]
    }
   ],
   "source": [
    "marks = np.concatenate((marks, np.array(rec1).reshape(1, 5), np.array(rec2).reshape(1, 5)), axis=0)\n",
    "print(marks)"
   ]
  },
  {
   "cell_type": "markdown",
   "id": "4b417a94-109d-4e61-a41a-24e25ad47f41",
   "metadata": {},
   "source": [
    "> Part # 3:"
   ]
  },
  {
   "cell_type": "code",
   "execution_count": 34,
   "id": "c82363cf-80ee-4205-a8a8-9bce0f6eeed3",
   "metadata": {},
   "outputs": [
    {
     "name": "stdout",
     "output_type": "stream",
     "text": [
      "[[ 13  10   9  33  41 106]\n",
      " [ 63  46  90  42  87 328]\n",
      " [ 39  76  13  29  72 229]\n",
      " [ 82   9  29  78  36 234]\n",
      " [ 67  61  59  36  92 315]\n",
      " [ 77  83  98  95  89 442]\n",
      " [ 92  71  52  61  53 329]]\n"
     ]
    }
   ],
   "source": [
    "sums = np.sum(marks, axis=1).reshape(7, 1)\n",
    "marks = np.concatenate((marks, sums), axis=1)\n",
    "print(marks)"
   ]
  },
  {
   "cell_type": "markdown",
   "id": "30835250-8811-473a-b62a-0953fa839d66",
   "metadata": {},
   "source": [
    "> Part # 4:"
   ]
  },
  {
   "cell_type": "code",
   "execution_count": 39,
   "id": "f884ce69-8f8d-4b05-9803-46fe4f4bf3a9",
   "metadata": {},
   "outputs": [
    {
     "name": "stdout",
     "output_type": "stream",
     "text": [
      "[[ 77  83  98  95  89 442]\n",
      " [ 92  71  52  61  53 329]\n",
      " [ 63  46  90  42  87 328]\n",
      " [ 67  61  59  36  92 315]\n",
      " [ 82   9  29  78  36 234]\n",
      " [ 39  76  13  29  72 229]\n",
      " [ 13  10   9  33  41 106]]\n",
      "Top two rows:\n",
      "[[ 77  83  98  95  89 442]\n",
      " [ 92  71  52  61  53 329]]\n"
     ]
    }
   ],
   "source": [
    "sorted_marks = marks[marks[:, -1].argsort()[::-1]]\n",
    "print(sorted_marks)\n",
    "print(f'Top two rows:\\n{sorted_marks[:2,:]}')"
   ]
  },
  {
   "cell_type": "markdown",
   "id": "7e43e654-6506-48e9-9adf-7467e855ec2f",
   "metadata": {},
   "source": [
    "### 31. Find unique arrays from a 2D array column wise and row wise.\n",
    "```\n",
    "arr = np.array([[1,2,3,3,1,1],\n",
    "                [0,9,1,2,8,8],\n",
    "                [1,2,3,8,8,8],\n",
    "                [1,2,3,3,1,1]])\n",
    "```\n",
    "Expected Result-\n",
    "```\n",
    "Row Wise\n",
    "[[0 9 1 2 8 8]\n",
    " [1 2 3 3 1 1]\n",
    " [1 2 3 8 8 8]]\n",
    "\n",
    "Col Wise\n",
    "[[1 1 2 3 3]\n",
    " [0 8 9 1 2]\n",
    " [1 8 2 3 8]\n",
    " [1 1 2 3 3]]\n",
    "```"
   ]
  },
  {
   "cell_type": "code",
   "execution_count": 47,
   "id": "d29e84cd-f65b-44d8-a502-0213e869afc2",
   "metadata": {},
   "outputs": [
    {
     "name": "stdout",
     "output_type": "stream",
     "text": [
      "[[1 2 3 3 1 1]\n",
      " [0 9 1 2 8 8]\n",
      " [1 2 3 8 8 8]\n",
      " [1 2 3 3 1 1]]\n"
     ]
    }
   ],
   "source": [
    "arr = np.array([[1,2,3,3,1,1],\n",
    "                [0,9,1,2,8,8],\n",
    "                [1,2,3,8,8,8],\n",
    "                [1,2,3,3,1,1]])\n",
    "print(arr)"
   ]
  },
  {
   "cell_type": "code",
   "execution_count": 50,
   "id": "6754e0fc-ec59-49da-9d80-981500f5c8b7",
   "metadata": {},
   "outputs": [
    {
     "name": "stdout",
     "output_type": "stream",
     "text": [
      "[[0 9 1 2 8 8]\n",
      " [1 2 3 3 1 1]\n",
      " [1 2 3 8 8 8]]\n"
     ]
    }
   ],
   "source": [
    "row_unique = np.unique(arr, axis=0)\n",
    "print(row_unique)"
   ]
  },
  {
   "cell_type": "code",
   "execution_count": 51,
   "id": "7bc0431f-3d3f-4e0a-a5d8-db84b6ed53e0",
   "metadata": {},
   "outputs": [
    {
     "name": "stdout",
     "output_type": "stream",
     "text": [
      "[[1 1 2 3 3]\n",
      " [0 8 9 1 2]\n",
      " [1 8 2 3 8]\n",
      " [1 1 2 3 3]]\n"
     ]
    }
   ],
   "source": [
    "col_unique = np.unique(arr, axis=1)\n",
    "print(col_unique)"
   ]
  },
  {
   "cell_type": "markdown",
   "id": "6d7ee0a3-83c7-4f42-8ded-2fc892b05319",
   "metadata": {},
   "source": [
    "### 32. Flip given 2-D array along both axes at the same time.\n",
    "```\n",
    "arr = np.array([[1,2,3,3,1,1],\n",
    "                [0,9,1,2,8,8],\n",
    "                [1,2,3,8,8,8],\n",
    "                [1,2,3,3,1,1]])"
   ]
  },
  {
   "cell_type": "code",
   "execution_count": 52,
   "id": "4b6c2353-6baf-4a52-8438-82b2301e14f8",
   "metadata": {},
   "outputs": [],
   "source": [
    "arr = np.array([[1,2,3,3,1,1],\n",
    "                [0,9,1,2,8,8],\n",
    "                [1,2,3,8,8,8],\n",
    "                [1,2,3,3,1,1]])"
   ]
  },
  {
   "cell_type": "code",
   "execution_count": 54,
   "id": "8e816f89-144b-4e4b-9bb0-ef8ac379aaab",
   "metadata": {},
   "outputs": [
    {
     "name": "stdout",
     "output_type": "stream",
     "text": [
      "[[1 1 3 3 2 1]\n",
      " [8 8 8 3 2 1]\n",
      " [8 8 2 1 9 0]\n",
      " [1 1 3 3 2 1]]\n"
     ]
    }
   ],
   "source": [
    "flipped = np.flip(arr)\n",
    "print(flipped)"
   ]
  },
  {
   "cell_type": "markdown",
   "id": "395ba792-0e0c-4691-9236-5921b5f7970f",
   "metadata": {},
   "source": [
    "### 33. Get row numbers of NumPy array having element larger than X.\n",
    "```\n",
    "arr = [[1,2,3,4,5], \n",
    "      [10,-3,30,4,5], \n",
    "      [3,2,5,-4,5], \n",
    "      [9,7,3,6,5]] \n",
    "\n",
    "X = 6\n",
    "```"
   ]
  },
  {
   "cell_type": "code",
   "execution_count": 57,
   "id": "a635d0e0-c21b-4c47-90e7-938b0dc632ba",
   "metadata": {},
   "outputs": [],
   "source": [
    "arr = np.array([[1,2,3,4,5], \n",
    "      [10,-3,30,4,5], \n",
    "      [3,2,5,-4,5], \n",
    "      [9,7,3,6,5]]) \n",
    "x = 6"
   ]
  },
  {
   "cell_type": "markdown",
   "id": "0ac1a1f3-ff05-4ffe-8967-b097ecc582b7",
   "metadata": {},
   "source": [
    "> Method # 1:"
   ]
  },
  {
   "cell_type": "code",
   "execution_count": 65,
   "id": "a516b903-8378-4601-a0bf-c2451e08fc79",
   "metadata": {},
   "outputs": [
    {
     "name": "stdout",
     "output_type": "stream",
     "text": [
      "[1 3]\n"
     ]
    }
   ],
   "source": [
    "row_nums = np.unique(np.argwhere(arr > x)[:, 0])\n",
    "print(row_nums)"
   ]
  },
  {
   "cell_type": "markdown",
   "id": "b87c360b-75ef-4988-953f-f75caee208d6",
   "metadata": {},
   "source": [
    "> Method # 2:"
   ]
  },
  {
   "cell_type": "code",
   "execution_count": 67,
   "id": "2b4b2d47-ace8-4070-8029-52b27b2c5a63",
   "metadata": {},
   "outputs": [
    {
     "name": "stdout",
     "output_type": "stream",
     "text": [
      "[1 3]\n"
     ]
    }
   ],
   "source": [
    "row_nums = np.where(np.any(arr > x, axis=1))[0]\n",
    "print(row_nums)"
   ]
  },
  {
   "cell_type": "markdown",
   "id": "7a0c0f1b-a835-4cd4-aa81-279ad7e8bac2",
   "metadata": {},
   "source": [
    "### 34. You are given a array. You have to find the minimum and maximum array element and remove that from the array.\n",
    "\n",
    "```python\n",
    "np.random.seed(400)\n",
    "arr = np.random.randint(100, 1000, 200).reshape((1, 200))\n",
    "```"
   ]
  },
  {
   "cell_type": "code",
   "execution_count": 97,
   "id": "a9b0c0e6-67ad-4159-93b5-5d551bd1cbfd",
   "metadata": {},
   "outputs": [
    {
     "name": "stdout",
     "output_type": "stream",
     "text": [
      "[[448 563 418 240 507 362 345 236 719 291 298 639 458 387 262 613 267 882\n",
      "  181 425 790 635 889 818 872 967 277 470 336 920 917 295 557 830 506 385\n",
      "  353 975 592 997 137 340 222 215 472 459 617 649 935 956 914 932 645 952\n",
      "  921 490 527 972 278 307 840 958 246 449 251 957 103 627 920 824 356 825\n",
      "  173 323 372 960 710 464 244 782 763 635 436 774 171 469 178 458 624 211\n",
      "  771 270 308 231 952 514 699 702 433 900 373 318 998 265 503 320 230 324\n",
      "  922 967 620 743 527 117 566 804 123 946 587 227 853 757 944 328 855 930\n",
      "  325 729 426 514 296 879 575 936 705 209 191 743 510 513 628 559 658 528\n",
      "  395 525 922 136 496 225 895 975 263 908 420 711 800 976 786 235 930 859\n",
      "  618 226 695 460 218 483 490 803 621 453 193 607 677 637 728 724 534 748\n",
      "  291 194 761 875 687 569 228 482 781 554 654 739 885 197 266 228 892 207\n",
      "  883 588]]\n"
     ]
    }
   ],
   "source": [
    "np.random.seed(400)\n",
    "arr = np.random.randint(100, 1000, 200).reshape((1, 200))\n",
    "print(arr)"
   ]
  },
  {
   "cell_type": "code",
   "execution_count": 98,
   "id": "47d0b85d-ad8d-40b0-9a7b-59900b111291",
   "metadata": {},
   "outputs": [
    {
     "name": "stdout",
     "output_type": "stream",
     "text": [
      "Max: 998 and Min: 103\n"
     ]
    }
   ],
   "source": [
    "max_el = np.max(arr)\n",
    "min_el = np.min(arr)\n",
    "print(f'Max: {max_el} and Min: {min_el}')"
   ]
  },
  {
   "cell_type": "code",
   "execution_count": 99,
   "id": "aa030c9d-9a6b-41f3-ade1-c2b787bacfb4",
   "metadata": {},
   "outputs": [
    {
     "name": "stdout",
     "output_type": "stream",
     "text": [
      "[448 563 418 240 507 362 345 236 719 291 298 639 458 387 262 613 267 882\n",
      " 181 425 790 635 889 818 872 967 277 470 336 920 917 295 557 830 506 385\n",
      " 353 975 592 997 137 340 222 215 472 459 617 649 935 956 914 932 645 952\n",
      " 921 490 527 972 278 307 840 958 246 449 251 957 627 920 824 356 825 173\n",
      " 323 372 960 710 464 244 782 763 635 436 774 171 469 178 458 624 211 771\n",
      " 270 308 231 952 514 699 702 433 900 373 318 265 503 320 230 324 922 967\n",
      " 620 743 527 117 566 804 123 946 587 227 853 757 944 328 855 930 325 729\n",
      " 426 514 296 879 575 936 705 209 191 743 510 513 628 559 658 528 395 525\n",
      " 922 136 496 225 895 975 263 908 420 711 800 976 786 235 930 859 618 226\n",
      " 695 460 218 483 490 803 621 453 193 607 677 637 728 724 534 748 291 194\n",
      " 761 875 687 569 228 482 781 554 654 739 885 197 266 228 892 207 883 588]\n"
     ]
    }
   ],
   "source": [
    "arr = arr[np.where((arr != max_el) & (arr != min_el))]\n",
    "print(arr)"
   ]
  },
  {
   "cell_type": "markdown",
   "id": "7dfd82ca-1d47-4bf4-a5b9-3100f2659261",
   "metadata": {},
   "source": [
    "### 35. You are given an array. You have to limit this array's elements between 100 to 200. $arr ∈ [100, 700]$. So replace those values accordingly with the minimum and maximum value. Then sort the array and perform the cumulative sum of that array."
   ]
  },
  {
   "cell_type": "code",
   "execution_count": 119,
   "id": "55f99b05-9aaf-46c5-aeb5-be1bb080e94d",
   "metadata": {},
   "outputs": [
    {
     "name": "stdout",
     "output_type": "stream",
     "text": [
      "[148 192 220 165 144 569 409 567 442 102 521 581 262 216 143 300 627 698\n",
      " 567 600 477 295 676 626 111 189 193 432 213 293 211 398 629 287 113 196\n",
      " 106 607 362 117 475 592 254 474 219 164 418 104 650 421 581 612 700 198\n",
      " 320 184 537 584 312 646 252 267 271 349 559 420 334 662 598 234 560 110\n",
      " 608 227 579 521 325 237 111 597 209 266 226 213 619 216 400 178 588 692\n",
      " 103 273 592 194 555 308 692 444 166 481 480 134 640 452 207 284 432 279\n",
      " 632 309 292 277 334 382 271 327 327 666 581 190 444 651 493 284 378 512\n",
      " 459 345 636 173 222 466 583 622 158 461 297 402 301 454 352 392 238 616\n",
      " 481 305 416 671 515 471 577 237 662 355 130 127 299 293 365 291 327 198\n",
      " 543 402 366 507 180 299 666 543 506 470 620 693 411 431 573 182 446 545\n",
      " 335 685 546 384 506 353 266 483 428 654 533 558 193 365 667 571 424 246\n",
      " 621 374]\n"
     ]
    }
   ],
   "source": [
    "arr = np.random.randint(low=100, high=701, size=200)\n",
    "print(arr)"
   ]
  },
  {
   "cell_type": "code",
   "execution_count": 120,
   "id": "9f171d57-1afc-4ae5-9e21-83bea9ec0e1f",
   "metadata": {},
   "outputs": [
    {
     "name": "stdout",
     "output_type": "stream",
     "text": [
      "[  102   205   309   415   525   636   747   860   977  1104  1234  1368\n",
      "  1511  1655  1803  1961  2125  2290  2456  2629  2807  2987  3169  3353\n",
      "  3542  3732  3924  4117  4310  4504  4700  4898  5096  5296  5496  5696\n",
      "  5896  6096  6296  6496  6696  6896  7096  7296  7496  7696  7896  8096\n",
      "  8296  8496  8696  8896  9096  9296  9496  9696  9896 10096 10296 10496\n",
      " 10696 10896 11096 11296 11496 11696 11896 12096 12296 12496 12696 12896\n",
      " 13096 13296 13496 13696 13896 14096 14296 14496 14696 14896 15096 15296\n",
      " 15496 15696 15896 16096 16296 16496 16696 16896 17096 17296 17496 17696\n",
      " 17896 18096 18296 18496 18696 18896 19096 19296 19496 19696 19896 20096\n",
      " 20296 20496 20696 20896 21096 21296 21496 21696 21896 22096 22296 22496\n",
      " 22696 22896 23096 23296 23496 23696 23896 24096 24296 24496 24696 24896\n",
      " 25096 25296 25496 25696 25896 26096 26296 26496 26696 26896 27096 27296\n",
      " 27496 27696 27896 28096 28296 28496 28696 28896 29096 29296 29496 29696\n",
      " 29896 30096 30296 30496 30696 30896 31096 31296 31496 31696 31896 32096\n",
      " 32296 32496 32696 32896 33096 33296 33496 33696 33896 34096 34296 34496\n",
      " 34696 34896 35096 35296 35496 35696 35896 36096 36296 36496 36696 36896\n",
      " 37096 37296 37496 37696 37896 38096 38296 38496]\n"
     ]
    }
   ],
   "source": [
    "arr = np.clip(arr, 100, 200)\n",
    "sum = np.cumsum(np.sort(arr))\n",
    "print(sum)"
   ]
  },
  {
   "cell_type": "markdown",
   "id": "31099bed-15ca-4d20-8421-182e363a5d57",
   "metadata": {},
   "source": [
    "### 36. You are given a array ($arr ∈ [0, 1]$). First you have round off the elements upto 3 decimal places and compare that\n",
    "- 0th percentile == minimum value of the array\n",
    "- 100th percentile == maximum value of the array\n",
    "- also find the difference betwen 51th percenile and 50th percentile values"
   ]
  },
  {
   "cell_type": "code",
   "execution_count": 129,
   "id": "8dfd185a-fcb9-4606-a212-2ae7bf931f89",
   "metadata": {},
   "outputs": [
    {
     "name": "stdout",
     "output_type": "stream",
     "text": [
      "[0.    0.053 0.105 0.158 0.211 0.263 0.316 0.368 0.421 0.474 0.526 0.579\n",
      " 0.632 0.684 0.737 0.789 0.842 0.895 0.947 1.   ]\n"
     ]
    }
   ],
   "source": [
    "arr = np.round(np.linspace(0, 1, 20), 3)\n",
    "print(arr)"
   ]
  },
  {
   "cell_type": "code",
   "execution_count": 135,
   "id": "c818055b-f884-4de2-bc2d-ea350a364393",
   "metadata": {},
   "outputs": [
    {
     "name": "stdout",
     "output_type": "stream",
     "text": [
      "Oth percentile: 0.0\n",
      "100th percentile: 1.0\n",
      "Difference between 51th and 50th percentile: 0.00988\n"
     ]
    }
   ],
   "source": [
    "per_0 = np.percentile(arr, 0)\n",
    "per_100 = np.percentile(arr, 100)\n",
    "per_51 = np.percentile(arr, 51)\n",
    "per_50 = np.percentile(arr, 50)\n",
    "print(f'Oth percentile: {per_0}\\n100th percentile: {per_100}\\n\\\n",
    "Difference between 51th and 50th percentile: {per_51 - per_50}')"
   ]
  }
 ],
 "metadata": {
  "kernelspec": {
   "display_name": "Python 3 (ipykernel)",
   "language": "python",
   "name": "python3"
  },
  "language_info": {
   "codemirror_mode": {
    "name": "ipython",
    "version": 3
   },
   "file_extension": ".py",
   "mimetype": "text/x-python",
   "name": "python",
   "nbconvert_exporter": "python",
   "pygments_lexer": "ipython3",
   "version": "3.11.5"
  }
 },
 "nbformat": 4,
 "nbformat_minor": 5
}
